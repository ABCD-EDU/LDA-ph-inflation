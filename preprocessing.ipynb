{
 "cells": [
  {
   "cell_type": "code",
   "execution_count": 181,
   "metadata": {},
   "outputs": [],
   "source": [
    "import pandas as pd\n",
    "# Preprocessing\n",
    "import re\n",
    "import preprocessor as p\n",
    "import string\n",
    "import contractions\n",
    "from collections import defaultdict\n",
    "import nltk\n",
    "from nltk.tokenize import word_tokenize\n",
    "from nltk.stem import WordNetLemmatizer\n",
    "from nltk.corpus import wordnet as wn\n",
    "from nltk import pos_tag\n",
    "from nltk.corpus import stopwords"
   ]
  },
  {
   "cell_type": "code",
   "execution_count": 182,
   "metadata": {},
   "outputs": [
    {
     "name": "stderr",
     "output_type": "stream",
     "text": [
      "[nltk_data] Downloading package punkt to\n",
      "[nltk_data]     C:\\Users\\cgab\\AppData\\Roaming\\nltk_data...\n",
      "[nltk_data]   Package punkt is already up-to-date!\n",
      "[nltk_data] Downloading package wordnet to\n",
      "[nltk_data]     C:\\Users\\cgab\\AppData\\Roaming\\nltk_data...\n",
      "[nltk_data]   Package wordnet is already up-to-date!\n",
      "[nltk_data] Downloading package omw-1.4 to\n",
      "[nltk_data]     C:\\Users\\cgab\\AppData\\Roaming\\nltk_data...\n",
      "[nltk_data]   Package omw-1.4 is already up-to-date!\n",
      "[nltk_data] Downloading package averaged_perceptron_tagger to\n",
      "[nltk_data]     C:\\Users\\cgab\\AppData\\Roaming\\nltk_data...\n",
      "[nltk_data]   Package averaged_perceptron_tagger is already up-to-\n",
      "[nltk_data]       date!\n",
      "[nltk_data] Downloading package stopwords to\n",
      "[nltk_data]     C:\\Users\\cgab\\AppData\\Roaming\\nltk_data...\n",
      "[nltk_data]   Package stopwords is already up-to-date!\n"
     ]
    },
    {
     "data": {
      "text/plain": [
       "True"
      ]
     },
     "execution_count": 182,
     "metadata": {},
     "output_type": "execute_result"
    }
   ],
   "source": [
    "# Download requires corpus\n",
    "nltk.download('punkt')\n",
    "nltk.download('wordnet')\n",
    "nltk.download('omw-1.4')\n",
    "nltk.download('averaged_perceptron_tagger')\n",
    "nltk.download('stopwords')"
   ]
  },
  {
   "cell_type": "markdown",
   "metadata": {},
   "source": [
    "<h2> Consolidation </h2>"
   ]
  },
  {
   "cell_type": "code",
   "execution_count": 183,
   "metadata": {},
   "outputs": [
    {
     "name": "stdout",
     "output_type": "stream",
     "text": [
      "Couldn't find program: 'false'\n"
     ]
    }
   ],
   "source": [
    "%%script false\n",
    "# Consolidate all csvs into one dataframe then export as csv\n",
    "fb_df = pd.read_csv('./data/Facebook_Consolidated.csv')\n",
    "reddit_df = pd.read_csv('./data/reddit.csv')\n",
    "tiktok_df = pd.read_excel('./data/Tiktok.xlsx')\n",
    "youtube_df = pd.read_csv('./data/Youtube.csv')\n",
    "# text column\n",
    "# fb_df[\"0\"]\n",
    "# reddit_df[\"body\"]\n",
    "# tiktok_df[\"Comment Text\"]\n",
    "# youtube_df[\"Comment\"]\n",
    "# Create master_series\n",
    "master_series = fb_df[\"0\"].append(reddit_df[\"body\"], ignore_index=True).append(tiktok_df[\"Comment Text\"], ignore_index=True).append(youtube_df[\"Comment\"], ignore_index=True)\n",
    "len(master_series)\n",
    "# Drop NA\n",
    "master_series.dropna(inplace=True)\n",
    "master_series.to_csv('./data/consolidated.csv', index=False)\n"
   ]
  },
  {
   "cell_type": "markdown",
   "metadata": {},
   "source": [
    "<h2> Preprocessing </h2>\n",
    "TODO: Remove entries that have only 1 word?"
   ]
  },
  {
   "cell_type": "code",
   "execution_count": 184,
   "metadata": {},
   "outputs": [],
   "source": [
    "dataset = pd.read_csv('./data/consolidated.csv')\n",
    "dataset.columns = ['raw']\n",
    "# dataset = pd.read_csv('./data/sample.csv')\n",
    "# dataset.columns = ['text']"
   ]
  },
  {
   "cell_type": "code",
   "execution_count": 185,
   "metadata": {},
   "outputs": [],
   "source": [
    "# Create new column for prepr preprocessed\n",
    "dataset[\"preprocessed\"] = dataset[\"raw\"]"
   ]
  },
  {
   "cell_type": "code",
   "execution_count": 186,
   "metadata": {},
   "outputs": [
    {
     "data": {
      "text/html": [
       "<div>\n",
       "<style scoped>\n",
       "    .dataframe tbody tr th:only-of-type {\n",
       "        vertical-align: middle;\n",
       "    }\n",
       "\n",
       "    .dataframe tbody tr th {\n",
       "        vertical-align: top;\n",
       "    }\n",
       "\n",
       "    .dataframe thead th {\n",
       "        text-align: right;\n",
       "    }\n",
       "</style>\n",
       "<table border=\"1\" class=\"dataframe\">\n",
       "  <thead>\n",
       "    <tr style=\"text-align: right;\">\n",
       "      <th></th>\n",
       "      <th>raw</th>\n",
       "      <th>preprocessed</th>\n",
       "    </tr>\n",
       "  </thead>\n",
       "  <tbody>\n",
       "    <tr>\n",
       "      <th>0</th>\n",
       "      <td>Why nowadays every thing  seem to be increasin...</td>\n",
       "      <td>Why nowadays every thing  seem to be increasin...</td>\n",
       "    </tr>\n",
       "    <tr>\n",
       "      <th>1</th>\n",
       "      <td>I will have to disagree.. we’re not that high!!</td>\n",
       "      <td>I will have to disagree.. we’re not that high!!</td>\n",
       "    </tr>\n",
       "    <tr>\n",
       "      <th>2</th>\n",
       "      <td>Wag po tayong mag-alala. Naniniwala po ako, is...</td>\n",
       "      <td>Wag po tayong mag-alala. Naniniwala po ako, is...</td>\n",
       "    </tr>\n",
       "    <tr>\n",
       "      <th>3</th>\n",
       "      <td>Ok lang yang lahat naman nang bansa ganyan. Sa...</td>\n",
       "      <td>Ok lang yang lahat naman nang bansa ganyan. Sa...</td>\n",
       "    </tr>\n",
       "    <tr>\n",
       "      <th>4</th>\n",
       "      <td>Sama-sama tayong BABAON muli.</td>\n",
       "      <td>Sama-sama tayong BABAON muli.</td>\n",
       "    </tr>\n",
       "  </tbody>\n",
       "</table>\n",
       "</div>"
      ],
      "text/plain": [
       "                                                 raw  \\\n",
       "0  Why nowadays every thing  seem to be increasin...   \n",
       "1    I will have to disagree.. we’re not that high!!   \n",
       "2  Wag po tayong mag-alala. Naniniwala po ako, is...   \n",
       "3  Ok lang yang lahat naman nang bansa ganyan. Sa...   \n",
       "4                      Sama-sama tayong BABAON muli.   \n",
       "\n",
       "                                        preprocessed  \n",
       "0  Why nowadays every thing  seem to be increasin...  \n",
       "1    I will have to disagree.. we’re not that high!!  \n",
       "2  Wag po tayong mag-alala. Naniniwala po ako, is...  \n",
       "3  Ok lang yang lahat naman nang bansa ganyan. Sa...  \n",
       "4                      Sama-sama tayong BABAON muli.  "
      ]
     },
     "execution_count": 186,
     "metadata": {},
     "output_type": "execute_result"
    }
   ],
   "source": [
    "dataset.head()"
   ]
  },
  {
   "cell_type": "code",
   "execution_count": 187,
   "metadata": {},
   "outputs": [],
   "source": [
    "lemma = WordNetLemmatizer()\n",
    "\n",
    "# stop words\n",
    "stop = set(stopwords.words('english'))\n",
    "# include filipino stopwords\n",
    "f = open(\"./data/stopwords.txt\", \"r\")\n",
    "for line in f:\n",
    "    stop.add(line.strip())\n",
    "f.close()\n",
    "\n",
    "# Helper functions\n",
    "def remove_stopwords(text):\n",
    "    words = [w for w in text if w not in stop]\n",
    "    return words\n",
    "\n",
    "def lemmatize_text(tokenized_text):\n",
    "    return [lemma.lemmatize(w) for w in tokenized_text]"
   ]
  },
  {
   "cell_type": "code",
   "execution_count": 188,
   "metadata": {},
   "outputs": [],
   "source": [
    "# Convert to lowercase\n",
    "dataset[\"preprocessed\"] = [entry.lower() for entry in dataset[\"preprocessed\"]]\n",
    "# Remove punctuation marks\n",
    "dataset[\"preprocessed\"] = [entry.translate(str.maketrans('', '', string.punctuation)) for entry in dataset[\"preprocessed\"]]\n",
    "# Twitter preprocess\n",
    "dataset[\"preprocessed\"] = [p.clean(entry) for entry in dataset[\"preprocessed\"]]\n",
    "# Tokenization\n",
    "dataset['preprocessed']= [word_tokenize(entry) for entry in dataset['preprocessed']]\n",
    "# Normalizatinon\n",
    "dataset['preprocessed'] = dataset['preprocessed'].apply(lemmatize_text)\n",
    "# Remove stopwords\n",
    "dataset[\"preprocessed\"] = [remove_stopwords(entry) for entry in dataset[\"preprocessed\"]]\n",
    "# Turn to String\n",
    "dataset['preprocessed']= [str(entry) for entry in dataset['preprocessed']]"
   ]
  },
  {
   "cell_type": "code",
   "execution_count": 191,
   "metadata": {},
   "outputs": [
    {
     "data": {
      "text/html": [
       "<div>\n",
       "<style scoped>\n",
       "    .dataframe tbody tr th:only-of-type {\n",
       "        vertical-align: middle;\n",
       "    }\n",
       "\n",
       "    .dataframe tbody tr th {\n",
       "        vertical-align: top;\n",
       "    }\n",
       "\n",
       "    .dataframe thead th {\n",
       "        text-align: right;\n",
       "    }\n",
       "</style>\n",
       "<table border=\"1\" class=\"dataframe\">\n",
       "  <thead>\n",
       "    <tr style=\"text-align: right;\">\n",
       "      <th></th>\n",
       "      <th>raw</th>\n",
       "      <th>preprocessed</th>\n",
       "    </tr>\n",
       "  </thead>\n",
       "  <tbody>\n",
       "    <tr>\n",
       "      <th>0</th>\n",
       "      <td>Why nowadays every thing  seem to be increasin...</td>\n",
       "      <td>['nowadays', 'every', 'thing', 'seem', 'increa...</td>\n",
       "    </tr>\n",
       "    <tr>\n",
       "      <th>1</th>\n",
       "      <td>I will have to disagree.. we’re not that high!!</td>\n",
       "      <td>['disagree', 'high']</td>\n",
       "    </tr>\n",
       "    <tr>\n",
       "      <th>2</th>\n",
       "      <td>Wag po tayong mag-alala. Naniniwala po ako, is...</td>\n",
       "      <td>['wag', 'po', 'tayong', 'magalala', 'naniniwal...</td>\n",
       "    </tr>\n",
       "    <tr>\n",
       "      <th>3</th>\n",
       "      <td>Ok lang yang lahat naman nang bansa ganyan. Sa...</td>\n",
       "      <td>['ok', 'lang', 'yang', 'lahat', 'naman', 'nang...</td>\n",
       "    </tr>\n",
       "    <tr>\n",
       "      <th>4</th>\n",
       "      <td>Sama-sama tayong BABAON muli.</td>\n",
       "      <td>['samasama', 'tayong', 'babaon', 'muli']</td>\n",
       "    </tr>\n",
       "  </tbody>\n",
       "</table>\n",
       "</div>"
      ],
      "text/plain": [
       "                                                 raw  \\\n",
       "0  Why nowadays every thing  seem to be increasin...   \n",
       "1    I will have to disagree.. we’re not that high!!   \n",
       "2  Wag po tayong mag-alala. Naniniwala po ako, is...   \n",
       "3  Ok lang yang lahat naman nang bansa ganyan. Sa...   \n",
       "4                      Sama-sama tayong BABAON muli.   \n",
       "\n",
       "                                        preprocessed  \n",
       "0  ['nowadays', 'every', 'thing', 'seem', 'increa...  \n",
       "1                               ['disagree', 'high']  \n",
       "2  ['wag', 'po', 'tayong', 'magalala', 'naniniwal...  \n",
       "3  ['ok', 'lang', 'yang', 'lahat', 'naman', 'nang...  \n",
       "4           ['samasama', 'tayong', 'babaon', 'muli']  "
      ]
     },
     "execution_count": 191,
     "metadata": {},
     "output_type": "execute_result"
    }
   ],
   "source": [
    "dataset.head()"
   ]
  },
  {
   "cell_type": "code",
   "execution_count": 189,
   "metadata": {},
   "outputs": [],
   "source": [
    "dataset.to_csv('./data/preprocessed.csv', index=False)"
   ]
  },
  {
   "cell_type": "code",
   "execution_count": 190,
   "metadata": {},
   "outputs": [],
   "source": [
    "# preprocessed = pd.read_csv('./data/preprocessed.csv')\n",
    "# df = pd.DataFrame({\"raw\":dataset[\"text\"], \"preprocessed\":preprocessed[\"text\"]})"
   ]
  }
 ],
 "metadata": {
  "kernelspec": {
   "display_name": "Python 3.9.0 64-bit",
   "language": "python",
   "name": "python3"
  },
  "language_info": {
   "codemirror_mode": {
    "name": "ipython",
    "version": 3
   },
   "file_extension": ".py",
   "mimetype": "text/x-python",
   "name": "python",
   "nbconvert_exporter": "python",
   "pygments_lexer": "ipython3",
   "version": "3.9.0"
  },
  "orig_nbformat": 4,
  "vscode": {
   "interpreter": {
    "hash": "81794d4967e6c3204c66dcd87b604927b115b27c00565d3d43f05ba2f3a2cb0d"
   }
  }
 },
 "nbformat": 4,
 "nbformat_minor": 2
}
