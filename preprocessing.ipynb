{
 "cells": [
  {
   "cell_type": "code",
   "execution_count": 30,
   "metadata": {},
   "outputs": [],
   "source": [
    "import pandas as pd\n",
    "# Preprocessing\n",
    "import re\n",
    "import preprocessor as p\n",
    "import string\n",
    "import contractions\n",
    "from collections import defaultdict\n",
    "import nltk\n",
    "from nltk.tokenize import word_tokenize\n",
    "from nltk.stem import WordNetLemmatizer\n",
    "from nltk.corpus import wordnet as wn\n",
    "from nltk import pos_tag\n",
    "from nltk.corpus import stopwords"
   ]
  },
  {
   "cell_type": "code",
   "execution_count": 31,
   "metadata": {},
   "outputs": [
    {
     "name": "stderr",
     "output_type": "stream",
     "text": [
      "[nltk_data] Downloading package punkt to\n",
      "[nltk_data]     C:\\Users\\cgab\\AppData\\Roaming\\nltk_data...\n",
      "[nltk_data]   Package punkt is already up-to-date!\n",
      "[nltk_data] Downloading package wordnet to\n",
      "[nltk_data]     C:\\Users\\cgab\\AppData\\Roaming\\nltk_data...\n",
      "[nltk_data]   Package wordnet is already up-to-date!\n",
      "[nltk_data] Downloading package omw-1.4 to\n",
      "[nltk_data]     C:\\Users\\cgab\\AppData\\Roaming\\nltk_data...\n",
      "[nltk_data]   Package omw-1.4 is already up-to-date!\n",
      "[nltk_data] Downloading package averaged_perceptron_tagger to\n",
      "[nltk_data]     C:\\Users\\cgab\\AppData\\Roaming\\nltk_data...\n",
      "[nltk_data]   Package averaged_perceptron_tagger is already up-to-\n",
      "[nltk_data]       date!\n",
      "[nltk_data] Downloading package stopwords to\n",
      "[nltk_data]     C:\\Users\\cgab\\AppData\\Roaming\\nltk_data...\n",
      "[nltk_data]   Package stopwords is already up-to-date!\n"
     ]
    },
    {
     "data": {
      "text/plain": [
       "True"
      ]
     },
     "execution_count": 31,
     "metadata": {},
     "output_type": "execute_result"
    }
   ],
   "source": [
    "# Download requires corpus\n",
    "nltk.download('punkt')\n",
    "nltk.download('wordnet')\n",
    "nltk.download('omw-1.4')\n",
    "nltk.download('averaged_perceptron_tagger')\n",
    "nltk.download('stopwords')"
   ]
  },
  {
   "cell_type": "markdown",
   "metadata": {},
   "source": [
    "<h2> Consolidation </h2>"
   ]
  },
  {
   "cell_type": "code",
   "execution_count": 32,
   "metadata": {},
   "outputs": [
    {
     "name": "stdout",
     "output_type": "stream",
     "text": [
      "Couldn't find program: 'false'\n"
     ]
    }
   ],
   "source": [
    "%%script false\n",
    "# Consolidate all csvs into one dataframe then export as csv\n",
    "fb_df = pd.read_csv('./data/social_media/Facebook_Consolidated.csv')\n",
    "fb_df[\"platform\"] = \"Facebook\"\n",
    "reddit_df = pd.read_csv('./data/social_media/reddit.csv')\n",
    "reddit_df[\"platform\"] = \"Reddit\"\n",
    "tiktok_df = pd.read_excel('./data/social_media/Tiktok.xlsx')\n",
    "tiktok_df[\"platform\"] = \"Tiktok\"\n",
    "youtube_df = pd.read_csv('./data/social_media/Youtube.csv')\n",
    "youtube_df[\"platform\"] = \"Youtube\"\n",
    "# text column\n",
    "# fb_df[\"0\"]\n",
    "# reddit_df[\"body\"]\n",
    "# tiktok_df[\"Comment Text\"]\n",
    "# youtube_df[\"Comment\"]\n",
    "# Create master_series\n",
    "text = fb_df[\"0\"].append(reddit_df[\"body\"], ignore_index=True).append(tiktok_df[\"Comment Text\"], ignore_index=True).append(youtube_df[\"Comment\"], ignore_index=True)\n",
    "platform = fb_df[\"platform\"].append(reddit_df[\"platform\"], ignore_index=True).append(tiktok_df[\"platform\"], ignore_index=True).append(youtube_df[\"platform\"], ignore_index=True)\n",
    "# Create master_df\n",
    "master_df = pd.DataFrame({\"text\": text, \"platform\": platform})\n",
    "# Drop master_df NaN\n",
    "master_df = master_df[master_df['text'].notna()]\n",
    "master_df.to_csv('./data/consolidated.csv', index=False)\n"
   ]
  },
  {
   "cell_type": "markdown",
   "metadata": {},
   "source": [
    "<h2> Preprocessing </h2>\n",
    "TODO: Remove entries that have only 1 word?"
   ]
  },
  {
   "cell_type": "code",
   "execution_count": 33,
   "metadata": {},
   "outputs": [],
   "source": [
    "dataset = pd.read_csv('./data/consolidated.csv')\n",
    "dataset=dataset.rename(columns = {'text':'raw'})\n",
    "dataset = dataset[[\"platform\", \"raw\"]]\n",
    "# dataset = pd.read_csv('./data/sample.csv')\n",
    "# dataset.columns = ['raw']"
   ]
  },
  {
   "cell_type": "code",
   "execution_count": 34,
   "metadata": {},
   "outputs": [],
   "source": [
    "# Create new column for prepr preprocessed\n",
    "dataset[\"preprocessed\"] = dataset[\"raw\"]"
   ]
  },
  {
   "cell_type": "code",
   "execution_count": 35,
   "metadata": {},
   "outputs": [
    {
     "data": {
      "text/html": [
       "<div>\n",
       "<style scoped>\n",
       "    .dataframe tbody tr th:only-of-type {\n",
       "        vertical-align: middle;\n",
       "    }\n",
       "\n",
       "    .dataframe tbody tr th {\n",
       "        vertical-align: top;\n",
       "    }\n",
       "\n",
       "    .dataframe thead th {\n",
       "        text-align: right;\n",
       "    }\n",
       "</style>\n",
       "<table border=\"1\" class=\"dataframe\">\n",
       "  <thead>\n",
       "    <tr style=\"text-align: right;\">\n",
       "      <th></th>\n",
       "      <th>platform</th>\n",
       "      <th>raw</th>\n",
       "      <th>preprocessed</th>\n",
       "    </tr>\n",
       "  </thead>\n",
       "  <tbody>\n",
       "    <tr>\n",
       "      <th>0</th>\n",
       "      <td>Facebook</td>\n",
       "      <td>Why nowadays every thing  seem to be increasin...</td>\n",
       "      <td>Why nowadays every thing  seem to be increasin...</td>\n",
       "    </tr>\n",
       "    <tr>\n",
       "      <th>1</th>\n",
       "      <td>Facebook</td>\n",
       "      <td>I will have to disagree.. we’re not that high!!</td>\n",
       "      <td>I will have to disagree.. we’re not that high!!</td>\n",
       "    </tr>\n",
       "    <tr>\n",
       "      <th>2</th>\n",
       "      <td>Facebook</td>\n",
       "      <td>Wag po tayong mag-alala. Naniniwala po ako, is...</td>\n",
       "      <td>Wag po tayong mag-alala. Naniniwala po ako, is...</td>\n",
       "    </tr>\n",
       "    <tr>\n",
       "      <th>3</th>\n",
       "      <td>Facebook</td>\n",
       "      <td>Ok lang yang lahat naman nang bansa ganyan. Sa...</td>\n",
       "      <td>Ok lang yang lahat naman nang bansa ganyan. Sa...</td>\n",
       "    </tr>\n",
       "    <tr>\n",
       "      <th>4</th>\n",
       "      <td>Facebook</td>\n",
       "      <td>Sama-sama tayong BABAON muli.</td>\n",
       "      <td>Sama-sama tayong BABAON muli.</td>\n",
       "    </tr>\n",
       "  </tbody>\n",
       "</table>\n",
       "</div>"
      ],
      "text/plain": [
       "   platform                                                raw  \\\n",
       "0  Facebook  Why nowadays every thing  seem to be increasin...   \n",
       "1  Facebook    I will have to disagree.. we’re not that high!!   \n",
       "2  Facebook  Wag po tayong mag-alala. Naniniwala po ako, is...   \n",
       "3  Facebook  Ok lang yang lahat naman nang bansa ganyan. Sa...   \n",
       "4  Facebook                      Sama-sama tayong BABAON muli.   \n",
       "\n",
       "                                        preprocessed  \n",
       "0  Why nowadays every thing  seem to be increasin...  \n",
       "1    I will have to disagree.. we’re not that high!!  \n",
       "2  Wag po tayong mag-alala. Naniniwala po ako, is...  \n",
       "3  Ok lang yang lahat naman nang bansa ganyan. Sa...  \n",
       "4                      Sama-sama tayong BABAON muli.  "
      ]
     },
     "execution_count": 35,
     "metadata": {},
     "output_type": "execute_result"
    }
   ],
   "source": [
    "dataset.head()"
   ]
  },
  {
   "cell_type": "code",
   "execution_count": 36,
   "metadata": {},
   "outputs": [],
   "source": [
    "lemma = WordNetLemmatizer()\n",
    "\n",
    "# stop words\n",
    "stop = set(stopwords.words('english'))\n",
    "# include filipino stopwords\n",
    "f = open(\"./data/stopwords.txt\", \"r\")\n",
    "for line in f:\n",
    "    stop.add(line.strip())\n",
    "f.close()\n",
    "\n",
    "# Helper functions\n",
    "def remove_stopwords(text):\n",
    "    words = [w for w in text if w not in stop]\n",
    "    return words\n",
    "\n",
    "def lemmatize_text(tokenized_text):\n",
    "    return [lemma.lemmatize(w) for w in tokenized_text]"
   ]
  },
  {
   "cell_type": "code",
   "execution_count": 37,
   "metadata": {},
   "outputs": [],
   "source": [
    "# Convert to lowercase\n",
    "dataset[\"preprocessed\"] = [entry.lower() for entry in dataset[\"preprocessed\"]]\n",
    "# Remove punctuation marks\n",
    "dataset[\"preprocessed\"] = [entry.translate(str.maketrans('', '', string.punctuation)) for entry in dataset[\"preprocessed\"]]\n",
    "# Twitter preprocess\n",
    "dataset[\"preprocessed\"] = [p.clean(entry) for entry in dataset[\"preprocessed\"]]\n",
    "# Tokenization\n",
    "dataset['preprocessed']= [word_tokenize(entry) for entry in dataset['preprocessed']]\n",
    "# Normalizatinon\n",
    "dataset['preprocessed'] = dataset['preprocessed'].apply(lemmatize_text)\n",
    "# Remove stopwords\n",
    "dataset[\"preprocessed\"] = [remove_stopwords(entry) for entry in dataset[\"preprocessed\"]]\n",
    "# # Turn to String\n",
    "# dataset['preprocessed']= [str(entry) for entry in dataset['preprocessed']]"
   ]
  },
  {
   "cell_type": "code",
   "execution_count": 41,
   "metadata": {},
   "outputs": [
    {
     "data": {
      "text/plain": [
       "list"
      ]
     },
     "execution_count": 41,
     "metadata": {},
     "output_type": "execute_result"
    }
   ],
   "source": [
    "type(dataset[\"preprocessed\"][0])"
   ]
  },
  {
   "cell_type": "code",
   "execution_count": 38,
   "metadata": {},
   "outputs": [
    {
     "data": {
      "text/html": [
       "<div>\n",
       "<style scoped>\n",
       "    .dataframe tbody tr th:only-of-type {\n",
       "        vertical-align: middle;\n",
       "    }\n",
       "\n",
       "    .dataframe tbody tr th {\n",
       "        vertical-align: top;\n",
       "    }\n",
       "\n",
       "    .dataframe thead th {\n",
       "        text-align: right;\n",
       "    }\n",
       "</style>\n",
       "<table border=\"1\" class=\"dataframe\">\n",
       "  <thead>\n",
       "    <tr style=\"text-align: right;\">\n",
       "      <th></th>\n",
       "      <th>platform</th>\n",
       "      <th>raw</th>\n",
       "      <th>preprocessed</th>\n",
       "    </tr>\n",
       "  </thead>\n",
       "  <tbody>\n",
       "    <tr>\n",
       "      <th>0</th>\n",
       "      <td>Facebook</td>\n",
       "      <td>Why nowadays every thing  seem to be increasin...</td>\n",
       "      <td>[nowadays, every, thing, seem, increasing, gov...</td>\n",
       "    </tr>\n",
       "    <tr>\n",
       "      <th>1</th>\n",
       "      <td>Facebook</td>\n",
       "      <td>I will have to disagree.. we’re not that high!!</td>\n",
       "      <td>[disagree, high]</td>\n",
       "    </tr>\n",
       "    <tr>\n",
       "      <th>2</th>\n",
       "      <td>Facebook</td>\n",
       "      <td>Wag po tayong mag-alala. Naniniwala po ako, is...</td>\n",
       "      <td>[wag, po, tayong, magalala, naniniwala, po, is...</td>\n",
       "    </tr>\n",
       "    <tr>\n",
       "      <th>3</th>\n",
       "      <td>Facebook</td>\n",
       "      <td>Ok lang yang lahat naman nang bansa ganyan. Sa...</td>\n",
       "      <td>[ok, lang, yang, naman, nang, bansa, ganyan, s...</td>\n",
       "    </tr>\n",
       "    <tr>\n",
       "      <th>4</th>\n",
       "      <td>Facebook</td>\n",
       "      <td>Sama-sama tayong BABAON muli.</td>\n",
       "      <td>[samasama, tayong, babaon]</td>\n",
       "    </tr>\n",
       "  </tbody>\n",
       "</table>\n",
       "</div>"
      ],
      "text/plain": [
       "   platform                                                raw  \\\n",
       "0  Facebook  Why nowadays every thing  seem to be increasin...   \n",
       "1  Facebook    I will have to disagree.. we’re not that high!!   \n",
       "2  Facebook  Wag po tayong mag-alala. Naniniwala po ako, is...   \n",
       "3  Facebook  Ok lang yang lahat naman nang bansa ganyan. Sa...   \n",
       "4  Facebook                      Sama-sama tayong BABAON muli.   \n",
       "\n",
       "                                        preprocessed  \n",
       "0  [nowadays, every, thing, seem, increasing, gov...  \n",
       "1                                   [disagree, high]  \n",
       "2  [wag, po, tayong, magalala, naniniwala, po, is...  \n",
       "3  [ok, lang, yang, naman, nang, bansa, ganyan, s...  \n",
       "4                         [samasama, tayong, babaon]  "
      ]
     },
     "execution_count": 38,
     "metadata": {},
     "output_type": "execute_result"
    }
   ],
   "source": [
    "dataset.head()"
   ]
  },
  {
   "cell_type": "code",
   "execution_count": 39,
   "metadata": {},
   "outputs": [],
   "source": [
    "dataset.to_csv('./data/preprocessed.csv', index=False)"
   ]
  },
  {
   "cell_type": "code",
   "execution_count": 40,
   "metadata": {},
   "outputs": [],
   "source": [
    "# preprocessed = pd.read_csv('./data/preprocessed.csv')\n",
    "# df = pd.DataFrame({\"raw\":dataset[\"text\"], \"preprocessed\":preprocessed[\"text\"]})"
   ]
  }
 ],
 "metadata": {
  "kernelspec": {
   "display_name": "Python 3.10.2 64-bit",
   "language": "python",
   "name": "python3"
  },
  "language_info": {
   "codemirror_mode": {
    "name": "ipython",
    "version": 3
   },
   "file_extension": ".py",
   "mimetype": "text/x-python",
   "name": "python",
   "nbconvert_exporter": "python",
   "pygments_lexer": "ipython3",
   "version": "3.10.2"
  },
  "orig_nbformat": 4,
  "vscode": {
   "interpreter": {
    "hash": "bc123c264329329055905c61aa8e1bcfb1aa50782921cabd93a2385e96624bc8"
   }
  }
 },
 "nbformat": 4,
 "nbformat_minor": 2
}
