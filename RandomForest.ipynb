{
 "cells": [
  {
   "cell_type": "code",
   "execution_count": 19,
   "metadata": {},
   "outputs": [],
   "source": [
    "from sklearn.feature_extraction.text import TfidfVectorizer\n",
    "from sklearn import svm\n",
    "from sklearn.ensemble import RandomForestClassifier\n",
    "from sklearn.multiclass import OneVsRestClassifier\n",
    "from sklearn.pipeline import make_pipeline\n",
    "import pandas as pd\n",
    "from sklearn.model_selection import train_test_split\n"
   ]
  },
  {
   "cell_type": "code",
   "execution_count": 20,
   "metadata": {},
   "outputs": [],
   "source": [
    "from sklearn.metrics import accuracy_score\n",
    "from sklearn.metrics import classification_report"
   ]
  },
  {
   "cell_type": "code",
   "execution_count": 21,
   "metadata": {},
   "outputs": [],
   "source": [
    "dataframe = pd.read_csv('./data/labelled_dataset.csv')\n",
    "dataframe = dataframe.dropna(how='all')\n",
    "# can be features other than the text column\n",
    "features = dataframe[\"Text\"]\n",
    "labels = dataframe[\"Best Topic\"]\n",
    "targets = [\"1\", \"2\", \"3\", \"4\", \"5\", \"6\"]"
   ]
  },
  {
   "cell_type": "code",
   "execution_count": 22,
   "metadata": {},
   "outputs": [],
   "source": [
    "X_train, X_test, y_train, y_test = train_test_split(features, labels, test_size=0.2, random_state=42)"
   ]
  },
  {
   "cell_type": "markdown",
   "metadata": {},
   "source": [
    "<h2> ngram = (1,1)"
   ]
  },
  {
   "cell_type": "code",
   "execution_count": 23,
   "metadata": {},
   "outputs": [
    {
     "data": {
      "text/plain": [
       "Pipeline(steps=[('tfidfvectorizer', TfidfVectorizer()),\n",
       "                ('onevsrestclassifier',\n",
       "                 OneVsRestClassifier(estimator=RandomForestClassifier(min_samples_split=15)))])"
      ]
     },
     "execution_count": 23,
     "metadata": {},
     "output_type": "execute_result"
    }
   ],
   "source": [
    "# Instantiate Classifier\n",
    "ovr_classifier = make_pipeline(\n",
    "    TfidfVectorizer(ngram_range=(1, 1)),\n",
    "    OneVsRestClassifier(RandomForestClassifier(min_samples_split=15, criterion='gini'))\n",
    ")\n",
    "randomforest_mode = ovr_classifier.fit(X=X_train, y=y_train)\n",
    "randomforest_mode"
   ]
  },
  {
   "cell_type": "code",
   "execution_count": 24,
   "metadata": {},
   "outputs": [
    {
     "name": "stdout",
     "output_type": "stream",
     "text": [
      "Random Forest Accuracy Score ->  0.625531914893617\n",
      "              precision    recall  f1-score   support\n",
      "\n",
      "           1       0.62      0.69      0.65       163\n",
      "           2       0.65      0.53      0.58       138\n",
      "           3       0.63      0.69      0.66       179\n",
      "           4       0.64      0.78      0.70       214\n",
      "           5       0.69      0.33      0.45        82\n",
      "           6       0.57      0.52      0.54       164\n",
      "\n",
      "    accuracy                           0.63       940\n",
      "   macro avg       0.63      0.59      0.60       940\n",
      "weighted avg       0.63      0.63      0.62       940\n",
      "\n"
     ]
    }
   ],
   "source": [
    "predictions = randomforest_mode.predict(X_test)\n",
    "t1_score = accuracy_score(predictions, y_test)\n",
    "print(\"Random Forest Accuracy Score -> \", t1_score)\n",
    "print(classification_report(y_test, predictions, target_names=targets))"
   ]
  },
  {
   "cell_type": "markdown",
   "metadata": {},
   "source": [
    "<h2> ngram = (1,2)"
   ]
  },
  {
   "cell_type": "code",
   "execution_count": 25,
   "metadata": {},
   "outputs": [
    {
     "data": {
      "text/plain": [
       "Pipeline(steps=[('tfidfvectorizer', TfidfVectorizer(ngram_range=(1, 2))),\n",
       "                ('onevsrestclassifier',\n",
       "                 OneVsRestClassifier(estimator=RandomForestClassifier(min_samples_split=15)))])"
      ]
     },
     "execution_count": 25,
     "metadata": {},
     "output_type": "execute_result"
    }
   ],
   "source": [
    "# Instantiate Classifier\n",
    "ovr_classifier = make_pipeline(\n",
    "    TfidfVectorizer(ngram_range=(1, 2)),\n",
    "    OneVsRestClassifier(RandomForestClassifier(min_samples_split=15, criterion='gini'))\n",
    ")\n",
    "randomforest_mode = ovr_classifier.fit(X=X_train, y=y_train)\n",
    "randomforest_mode"
   ]
  },
  {
   "cell_type": "code",
   "execution_count": 26,
   "metadata": {},
   "outputs": [
    {
     "name": "stdout",
     "output_type": "stream",
     "text": [
      "Random Forest Accuracy Score ->  0.6085106382978723\n",
      "              precision    recall  f1-score   support\n",
      "\n",
      "           1       0.58      0.64      0.61       163\n",
      "           2       0.69      0.54      0.60       138\n",
      "           3       0.56      0.65      0.60       179\n",
      "           4       0.61      0.79      0.69       214\n",
      "           5       0.79      0.28      0.41        82\n",
      "           6       0.61      0.51      0.56       164\n",
      "\n",
      "    accuracy                           0.61       940\n",
      "   macro avg       0.64      0.57      0.58       940\n",
      "weighted avg       0.62      0.61      0.60       940\n",
      "\n"
     ]
    }
   ],
   "source": [
    "predictions = randomforest_mode.predict(X_test)\n",
    "t1_score = accuracy_score(predictions, y_test)\n",
    "print(\"Random Forest Accuracy Score -> \", t1_score)\n",
    "print(classification_report(y_test, predictions, target_names=targets))"
   ]
  },
  {
   "cell_type": "markdown",
   "metadata": {},
   "source": [
    "<h2> ngram = (1,3)"
   ]
  },
  {
   "cell_type": "code",
   "execution_count": 27,
   "metadata": {},
   "outputs": [
    {
     "data": {
      "text/plain": [
       "Pipeline(steps=[('tfidfvectorizer', TfidfVectorizer(ngram_range=(1, 3))),\n",
       "                ('onevsrestclassifier',\n",
       "                 OneVsRestClassifier(estimator=RandomForestClassifier(min_samples_split=15)))])"
      ]
     },
     "execution_count": 27,
     "metadata": {},
     "output_type": "execute_result"
    }
   ],
   "source": [
    "# Instantiate Classifier\n",
    "ovr_classifier = make_pipeline(\n",
    "    # CountVectorizer(),\n",
    "    TfidfVectorizer(ngram_range=(1, 3)),\n",
    "    OneVsRestClassifier(RandomForestClassifier(min_samples_split=15, criterion='gini'))\n",
    ")\n",
    "randomforest_mode = ovr_classifier.fit(X=X_train, y=y_train)\n",
    "randomforest_mode"
   ]
  },
  {
   "cell_type": "code",
   "execution_count": 28,
   "metadata": {},
   "outputs": [
    {
     "name": "stdout",
     "output_type": "stream",
     "text": [
      "Random Forest Accuracy Score ->  0.6085106382978723\n",
      "              precision    recall  f1-score   support\n",
      "\n",
      "           1       0.63      0.62      0.63       163\n",
      "           2       0.67      0.54      0.60       138\n",
      "           3       0.55      0.70      0.62       179\n",
      "           4       0.60      0.79      0.69       214\n",
      "           5       0.81      0.27      0.40        82\n",
      "           6       0.59      0.48      0.53       164\n",
      "\n",
      "    accuracy                           0.61       940\n",
      "   macro avg       0.64      0.57      0.58       940\n",
      "weighted avg       0.62      0.61      0.60       940\n",
      "\n"
     ]
    }
   ],
   "source": [
    "predictions = randomforest_mode.predict(X_test)\n",
    "t1_score = accuracy_score(predictions, y_test)\n",
    "print(\"Random Forest Accuracy Score -> \", t1_score)\n",
    "print(classification_report(y_test, predictions, target_names=targets))"
   ]
  }
 ],
 "metadata": {
  "kernelspec": {
   "display_name": "Python 3.9.7",
   "language": "python",
   "name": "python3"
  },
  "language_info": {
   "codemirror_mode": {
    "name": "ipython",
    "version": 3
   },
   "file_extension": ".py",
   "mimetype": "text/x-python",
   "name": "python",
   "nbconvert_exporter": "python",
   "pygments_lexer": "ipython3",
   "version": "3.9.7"
  },
  "orig_nbformat": 4,
  "vscode": {
   "interpreter": {
    "hash": "ad2bdc8ecc057115af97d19610ffacc2b4e99fae6737bb82f5d7fb13d2f2c186"
   }
  }
 },
 "nbformat": 4,
 "nbformat_minor": 2
}
