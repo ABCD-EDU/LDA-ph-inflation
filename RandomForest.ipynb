{
 "cells": [
  {
   "cell_type": "code",
   "execution_count": 35,
   "metadata": {},
   "outputs": [],
   "source": [
    "\n",
    "\n",
    "import pandas as pd\n",
    "from sklearn.model_selection import train_test_split\n",
    "from sklearn.pipeline import make_pipeline\n",
    "from sklearn.feature_extraction.text import TfidfVectorizer\n",
    "from sklearn.multiclass import OneVsRestClassifier\n",
    "from sklearn.ensemble import RandomForestClassifier"
   ]
  },
  {
   "cell_type": "code",
   "execution_count": null,
   "metadata": {},
   "outputs": [],
   "source": [
    "from sklearn.metrics import accuracy_score\n",
    "from sklearn.metrics import confusion_matrix\n",
    "from sklearn.metrics import classification_report\n",
    "from sklearn.metrics import roc_auc_score"
   ]
  },
  {
   "cell_type": "code",
   "execution_count": 28,
   "metadata": {},
   "outputs": [],
   "source": [
    "dataframe = pd.read_csv('./data/labelled_dataset.csv')"
   ]
  },
  {
   "cell_type": "code",
   "execution_count": 29,
   "metadata": {},
   "outputs": [
    {
     "data": {
      "text/plain": [
       "Platform      0\n",
       "Text          0\n",
       "Topic 1       0\n",
       "Topic 2       0\n",
       "Topic 3       0\n",
       "Topic 4       0\n",
       "Topic 5       0\n",
       "Topic 6       0\n",
       "Best Topic    0\n",
       "dtype: int64"
      ]
     },
     "execution_count": 29,
     "metadata": {},
     "output_type": "execute_result"
    }
   ],
   "source": [
    "dataframe.isna().sum()"
   ]
  },
  {
   "cell_type": "code",
   "execution_count": 30,
   "metadata": {},
   "outputs": [],
   "source": [
    "# can be features other than the text column\n",
    "features = dataframe[\"Text\"]\n",
    "labels = dataframe[\"Best Topic\"]"
   ]
  },
  {
   "cell_type": "code",
   "execution_count": 31,
   "metadata": {},
   "outputs": [],
   "source": [
    "X_train, X_test, y_train, y_test = train_test_split(features, labels, test_size=0.2, random_state=42)"
   ]
  },
  {
   "cell_type": "code",
   "execution_count": 32,
   "metadata": {},
   "outputs": [
    {
     "data": {
      "text/plain": [
       "0"
      ]
     },
     "execution_count": 32,
     "metadata": {},
     "output_type": "execute_result"
    }
   ],
   "source": [
    "X_train.isnull().sum()"
   ]
  },
  {
   "cell_type": "code",
   "execution_count": 25,
   "metadata": {},
   "outputs": [],
   "source": [
    "# from sklearn.feature_extraction.text import TfidfVectorizer\n",
    "\n",
    "# def vectorize(data,tfidf_vect_fit):\n",
    "#     X_tfidf = tfidf_vect_fit.transform(data)\n",
    "#     words = tfidf_vect_fit.get_feature_names()\n",
    "#     X_tfidf_df = pd.DataFrame(X_tfidf.toarray())\n",
    "#     X_tfidf_df.columns = words\n",
    "#     return(X_tfidf_df)\n"
   ]
  },
  {
   "cell_type": "code",
   "execution_count": 24,
   "metadata": {},
   "outputs": [],
   "source": [
    "# tfidf_vect = TfidfVectorizer()\n",
    "# tfidf_vect_fit=tfidf_vect.fit(X_train)\n",
    "# X_tfidf = tfidf_vect_fit.transform(X_train)\n",
    "# # X_train=vectorize(X_train,tfidf_vect_fit)"
   ]
  },
  {
   "cell_type": "code",
   "execution_count": 46,
   "metadata": {},
   "outputs": [
    {
     "data": {
      "text/plain": [
       "Pipeline(steps=[('tfidfvectorizer', TfidfVectorizer()),\n",
       "                ('onevsrestclassifier',\n",
       "                 OneVsRestClassifier(estimator=RandomForestClassifier()))])"
      ]
     },
     "execution_count": 46,
     "metadata": {},
     "output_type": "execute_result"
    }
   ],
   "source": [
    "# Instantiate Classifier\n",
    "ovr_classifier = make_pipeline(\n",
    "    TfidfVectorizer(ngram_range=(1,1)),\n",
    "    OneVsRestClassifier(RandomForestClassifier())\n",
    ")\n",
    "\n",
    "t1_classifier_ngram = ovr_classifier.fit(X=X_train, y=y_train)\n",
    "t1_classifier_ngram"
   ]
  },
  {
   "cell_type": "code",
   "execution_count": 47,
   "metadata": {},
   "outputs": [
    {
     "name": "stdout",
     "output_type": "stream",
     "text": [
      "Randomforest 1 Accuracy Score ->  0.5949612403100775\n"
     ]
    }
   ],
   "source": [
    "predictions_t1 = t1_classifier_ngram.predict(X_test)\n",
    "t1_score = accuracy_score(predictions_t1, y_test)\n",
    "print(\"Randomforest 1 Accuracy Score -> \",t1_score)"
   ]
  },
  {
   "cell_type": "code",
   "execution_count": 9,
   "metadata": {},
   "outputs": [],
   "source": [
    "from sklearn.metrics import accuracy_score, precision_recall_fscore_support\n",
    "from sklearn.ensemble import RandomForestClassifier\n",
    "\n",
    "clf = RandomForestClassifier(min_samples_split=15, criterion='gini')\n",
    "clf.fit(X_train,y_train )\n",
    "pred = clf.predict(X_test)\n"
   ]
  },
  {
   "cell_type": "code",
   "execution_count": 10,
   "metadata": {},
   "outputs": [
    {
     "name": "stdout",
     "output_type": "stream",
     "text": [
      "0.6075581395348837\n"
     ]
    },
    {
     "data": {
      "text/plain": [
       "(array([0.67159763, 0.80555556, 0.60409556, 0.73404255, 0.6       ,\n",
       "        0.4501992 ]),\n",
       " array([0.79929577, 0.25217391, 0.73140496, 0.44805195, 0.1875    ,\n",
       "        0.65317919]),\n",
       " array([0.72990354, 0.38410596, 0.66168224, 0.55645161, 0.28571429,\n",
       "        0.53301887]),\n",
       " array([284, 115, 242, 154,  64, 173], dtype=int64))"
      ]
     },
     "execution_count": 10,
     "metadata": {},
     "output_type": "execute_result"
    }
   ],
   "source": [
    "pred = clf.predict(X_test)\n",
    "\n",
    "print(accuracy_score(y_test, pred))\n",
    "precision_recall_fscore_support(y_test, pred, average=None)"
   ]
  }
 ],
 "metadata": {
  "kernelspec": {
   "display_name": "Python 3.9.13 ('base')",
   "language": "python",
   "name": "python3"
  },
  "language_info": {
   "codemirror_mode": {
    "name": "ipython",
    "version": 3
   },
   "file_extension": ".py",
   "mimetype": "text/x-python",
   "name": "python",
   "nbconvert_exporter": "python",
   "pygments_lexer": "ipython3",
   "version": "3.9.7"
  },
  "orig_nbformat": 4,
  "vscode": {
   "interpreter": {
    "hash": "ad2bdc8ecc057115af97d19610ffacc2b4e99fae6737bb82f5d7fb13d2f2c186"
   }
  }
 },
 "nbformat": 4,
 "nbformat_minor": 2
}
