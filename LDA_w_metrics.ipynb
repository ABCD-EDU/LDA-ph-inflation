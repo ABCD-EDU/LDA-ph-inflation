{
 "cells": [
  {
   "cell_type": "code",
   "execution_count": 1,
   "metadata": {},
   "outputs": [],
   "source": [
    "# Import Libraries\n",
    "# for text preprocessing\n",
    "import re\n",
    "# import spacy\n",
    "from nltk.corpus import stopwords\n",
    "from nltk.stem.wordnet import WordNetLemmatizer\n",
    "import string\n",
    "# import numpy for matrix operation\n",
    "import numpy as np\n",
    "# Importing Gensim\n",
    "import gensim\n",
    "from gensim import corpora  \n",
    "import pandas as pd"
   ]
  },
  {
   "cell_type": "code",
   "execution_count": 2,
   "metadata": {},
   "outputs": [],
   "source": [
    "# dataframe = pd.read_csv(\"./data/social_media/Facebook_Consolidated.csv\")\n",
    "# dataframe"
   ]
  },
  {
   "cell_type": "code",
   "execution_count": 3,
   "metadata": {},
   "outputs": [],
   "source": [
    "# corpus = list(dataframe[\"0\"])"
   ]
  },
  {
   "cell_type": "code",
   "execution_count": null,
   "metadata": {},
   "outputs": [],
   "source": [
    "# import nltk\n",
    "# nltk.download('stopwords')"
   ]
  },
  {
   "cell_type": "code",
   "execution_count": null,
   "metadata": {},
   "outputs": [],
   "source": [
    "# # stop words\n",
    "# stop = set(stopwords.words('english'))"
   ]
  },
  {
   "cell_type": "code",
   "execution_count": null,
   "metadata": {},
   "outputs": [],
   "source": [
    "# # Apply Preprocessing on the Corpus\n",
    "\n",
    "# # stop words\n",
    "# stop = set(stopwords.words('english'))\n",
    "\n",
    "# # punctuation\n",
    "# exclude = set(string.punctuation)\n",
    "\n",
    "# # lemmatization\n",
    "# lemma = WordNetLemmatizer()\n",
    "\n",
    "# # One function for all the steps:\n",
    "# def clean(doc):\n",
    "    \n",
    "#     # convert text into lower case + split into words\n",
    "#     stop_free = \" \".join([i for i in doc.lower().split() if i not in stop])\n",
    "   \n",
    "#     # remove any stop words present\n",
    "#     punc_free = ''.join(ch for ch in stop_free if ch not in exclude)\n",
    "    \n",
    "   \n",
    "#     # remove punctuations + normalize the text\n",
    "#     normalized = \" \".join(lemma.lemmatize(word) for word in punc_free.split())  \n",
    "#     return normalized\n",
    "\n",
    "# # clean data stored in a new list\n",
    "# clean_corpus = [clean(doc).split() for doc in corpus]"
   ]
  },
  {
   "cell_type": "code",
   "execution_count": 4,
   "metadata": {},
   "outputs": [],
   "source": [
    "import ast\n",
    "dataframe = pd.read_csv(\"./data/preprocessed.csv\")\n",
    "# clean_corpus = dataframe[\"preprocessed\"]\n",
    "# clean_corpus = [x.strip('][').split(', ') for x in dataframe[\"preprocessed\"]]\n",
    "# string to list\n",
    "clean_corpus = [ast.literal_eval(x) for x in dataframe[\"preprocessed\"]]"
   ]
  },
  {
   "cell_type": "code",
   "execution_count": 5,
   "metadata": {},
   "outputs": [],
   "source": [
    "# where every unique term is assigned an index.\n",
    "dict_ = corpora.Dictionary(clean_corpus)"
   ]
  },
  {
   "cell_type": "code",
   "execution_count": 6,
   "metadata": {},
   "outputs": [],
   "source": [
    "# Converting list of documents (corpus) into Document Term Matrix using the dictionary\n",
    "doc_term_matrix = [dict_.doc2bow(i) for i in clean_corpus]"
   ]
  },
  {
   "cell_type": "code",
   "execution_count": 7,
   "metadata": {},
   "outputs": [
    {
     "name": "stdout",
     "output_type": "stream",
     "text": [
      "[(0, '0.016*\"inflation\" + 0.010*\"people\" + 0.010*\"philippine\" + 0.010*\"country\" + 0.008*\"dont\"'), (1, '0.009*\"share\" + 0.007*\"price\" + 0.006*\"mb\" + 0.006*\"market\" + 0.006*\"company\"'), (2, '0.027*\"yung\" + 0.007*\"leni\" + 0.007*\"bilihin\" + 0.007*\"inflation\" + 0.007*\"bansa\"'), (3, '0.017*\"nyo\" + 0.010*\"bbm\" + 0.008*\"wala\" + 0.008*\"inflation\" + 0.007*\"golden\"'), (4, '0.010*\"profit\" + 0.007*\"land\" + 0.006*\"build\" + 0.006*\"million\" + 0.006*\"q2\"'), (5, '0.017*\"unity\" + 0.007*\"question\" + 0.006*\"loan\" + 0.005*\"bbm\" + 0.005*\"marcos\"')]\n"
     ]
    }
   ],
   "source": [
    "# Creating the object for LDA model using gensim library\n",
    "Lda = gensim.models.ldamodel.LdaModel\n",
    "\n",
    "# Running and Training LDA model on the document term matrix.\n",
    "ldamodel = Lda(corpus=doc_term_matrix, num_topics=6, id2word = dict_, passes=20, random_state=20, eval_every=None)\n",
    "\n",
    "# Prints the topics with the indexes: 0,1,2 :\n",
    "ldamodel.print_topics()\n",
    "# we need to manually check whethere the topics are different from one another or not\n",
    "print(ldamodel.print_topics(num_topics=6, num_words=5))\n",
    "\n",
    "# num_topics mean: how many topics want to extract\n",
    "# num_words: the number of words that want per topic\n"
   ]
  },
  {
   "cell_type": "code",
   "execution_count": 6,
   "metadata": {},
   "outputs": [
    {
     "data": {
      "text/plain": [
       "0.510901809261436"
      ]
     },
     "execution_count": 6,
     "metadata": {},
     "output_type": "execute_result"
    }
   ],
   "source": [
    "from gensim.models import CoherenceModel\n",
    "\n",
    "coherence_model = CoherenceModel(model=ldamodel, texts=clean_corpus, dictionary=dict_, coherence=\"c_v\")\n",
    "\n",
    "coherence_model.get_coherence() "
   ]
  },
  {
   "cell_type": "code",
   "execution_count": 7,
   "metadata": {},
   "outputs": [
    {
     "name": "stdout",
     "output_type": "stream",
     "text": [
      "-8.549481118559168\n",
      "5163.983614221804\n"
     ]
    }
   ],
   "source": [
    "# NOTE: Gensim’s perplexity value is in logarithmic form. To compare with sklearn’s perplexity value np.exp(-1 *gensim.log_perplexity) is used\n",
    "\n",
    "print(ldamodel.log_perplexity(doc_term_matrix ))\n",
    "print(np.exp(-1 * ldamodel.log_perplexity(doc_term_matrix )))\n"
   ]
  },
  {
   "cell_type": "code",
   "execution_count": 23,
   "metadata": {},
   "outputs": [],
   "source": [
    "# Train model with increasing number of topics\n",
    "\n",
    "limit=32; start=2; step=4\n",
    "\n",
    "\n",
    "def train_model_with_diff_topicN(dictionary, corpus, texts, limit, start=2, step=3):\n",
    "   model_list = []\n",
    "   for num_topics in range(start, limit, step):\n",
    "      model = gensim.models.ldamodel.LdaModel(corpus=doc_term_matrix, num_topics=num_topics, id2word = dict_, passes=10, random_state=0, eval_every=None)\n",
    "      model_list.append(model)\n",
    "   return model_list\n",
    "\n",
    "all_model_list = train_model_with_diff_topicN(dictionary=dict_, corpus=doc_term_matrix, texts=clean_corpus, limit=limit,start=start, step=step )"
   ]
  },
  {
   "cell_type": "code",
   "execution_count": 24,
   "metadata": {},
   "outputs": [],
   "source": [
    "# A method for computing different coherence values(c_v, c_npmi, u_mass) of all models with different number of topics. \n",
    "\n",
    "from gensim.models import CoherenceModel\n",
    "\n",
    "def compute_coherence_values(model_list,dictionary,  texts):\n",
    "   all_coherence_values ={}\n",
    "   coherence_types = [\"c_v\", \"c_npmi\", \"u_mass\"]\n",
    "   \n",
    "   for coherence_type in coherence_types:\n",
    "      coherence_values = []\n",
    "      for model in model_list:\n",
    "         \n",
    "         coherence_model = CoherenceModel(model=model, texts=texts, dictionary=dictionary, coherence=coherence_type)\n",
    "         coherence_values.append(coherence_model.get_coherence())\n",
    "      all_coherence_values[coherence_type] = coherence_values\n",
    "      \n",
    "   return all_coherence_values"
   ]
  },
  {
   "cell_type": "code",
   "execution_count": 25,
   "metadata": {},
   "outputs": [],
   "source": [
    "# Computes for the perplexity values of models with different number of topics\n",
    "\n",
    "def compute_perplexity_values(model_list, doc_term_matrix):\n",
    "   perplexity_values = []\n",
    "   for model in model_list:\n",
    "      perplexity_values.append(np.exp(-1 * model.log_perplexity(doc_term_matrix )))\n",
    "     \n",
    "   return perplexity_values"
   ]
  },
  {
   "cell_type": "code",
   "execution_count": 26,
   "metadata": {},
   "outputs": [],
   "source": [
    "# A method for computing the pairwise Jaccard Similarity of topN topics from a model. \n",
    "from itertools import combinations\n",
    "\n",
    "\n",
    "def pairwise_jaccard_diversity(topics, topk=10):\n",
    "    '''\n",
    "    compute the average pairwise jaccard distance between the topics\n",
    " \n",
    "    Parameters\n",
    "    ----------\n",
    "    topics: a list of lists of words\n",
    "    topk: top k words on which the topic diversity\n",
    "          will be computed\n",
    "   \n",
    "    Returns\n",
    "    -------\n",
    "    pjd: average pairwise jaccard distance\n",
    "    '''\n",
    "    dist = 0\n",
    "    count = 0\n",
    "    for list1, list2 in combinations(topics, 2):\n",
    "        js = 1 - len(set(list1).intersection(set(list2)))/len(set(list1).union(set(list2)))\n",
    "        dist = dist + js\n",
    "        count = count + 1\n",
    "    return dist/count\n"
   ]
  },
  {
   "cell_type": "code",
   "execution_count": 27,
   "metadata": {},
   "outputs": [],
   "source": [
    "# Computes for the jaccard similarity values of models with different number of topics\n",
    "\n",
    "def compute_jaccard_similarity_values(model_list):\n",
    "   jaccard_scores = []\n",
    "   for model in model_list:\n",
    "      all_topics = []\n",
    "      for i in range(len(model.show_topics())):\n",
    "         topic = [x[0] for x in model.show_topic(i, topn=6)]\n",
    "         all_topics.append(topic)\n",
    "      jaccard_scores.append(pairwise_jaccard_diversity(all_topics, 6))\n",
    "   \n",
    "   return jaccard_scores"
   ]
  },
  {
   "cell_type": "code",
   "execution_count": 28,
   "metadata": {},
   "outputs": [],
   "source": [
    "# A method for computing different coherence values(c_v, c_npmi, u_mass) of all models with different number of topics. \n",
    "\n",
    "from gensim.models import CoherenceModel\n",
    "\n",
    "def compute_coherence_values(model, dictionary,  texts):\n",
    "   all_coherence_values ={}\n",
    "   coherence_types = [\"c_v\", \"c_npmi\", \"u_mass\"]\n",
    "   \n",
    "   \n",
    "   coherence_values = []\n",
    "   for coherence_type in coherence_types:\n",
    "      coherence_model = CoherenceModel(model=model, texts=texts, dictionary=dictionary, coherence=coherence_type)\n",
    "      coherence_values.append(coherence_model.get_coherence())\n",
    "      \n",
    "   return coherence_values"
   ]
  },
  {
   "cell_type": "code",
   "execution_count": 29,
   "metadata": {},
   "outputs": [],
   "source": [
    "import concurrent.futures as cf\n",
    "import itertools\n",
    "\n",
    "workers = 8\n",
    " \n",
    "all_coherence_values = []\n",
    "with cf.ThreadPoolExecutor(max_workers=workers) as executor:\n",
    "    #for n in executor.map(_findmatch, numberlist):\n",
    "    for n in executor.map(compute_coherence_values, all_model_list, itertools.repeat(dict_), itertools.repeat(clean_corpus)):\n",
    "        all_coherence_values.append(n)"
   ]
  },
  {
   "cell_type": "code",
   "execution_count": 30,
   "metadata": {},
   "outputs": [],
   "source": [
    "all_coherence_values_temp = {\"c_v\":[], \"c_npmi\":[], \"u_mass\":[]}\n",
    "coherence_types = [\"c_v\", \"c_npmi\", \"u_mass\"]\n",
    "for coherence_values in all_coherence_values:\n",
    "   for index,coherence_type in enumerate(coherence_types):\n",
    "      all_coherence_values_temp[coherence_type].append(coherence_values[index])"
   ]
  },
  {
   "cell_type": "code",
   "execution_count": 31,
   "metadata": {},
   "outputs": [
    {
     "data": {
      "text/plain": [
       "dict"
      ]
     },
     "execution_count": 31,
     "metadata": {},
     "output_type": "execute_result"
    }
   ],
   "source": [
    "type(all_coherence_values_temp)"
   ]
  },
  {
   "cell_type": "code",
   "execution_count": 32,
   "metadata": {},
   "outputs": [],
   "source": [
    "all_perplexity_values= compute_perplexity_values(all_model_list, doc_term_matrix=doc_term_matrix)\n",
    "all_jaccard_values = compute_jaccard_similarity_values(all_model_list)"
   ]
  },
  {
   "cell_type": "code",
   "execution_count": 33,
   "metadata": {},
   "outputs": [],
   "source": [
    "all_coherence_values = all_coherence_values_temp"
   ]
  },
  {
   "cell_type": "code",
   "execution_count": 45,
   "metadata": {},
   "outputs": [
    {
     "data": {
      "text/plain": [
       "[2, 6, 10, 14, 18, 22, 26, 30]"
      ]
     },
     "execution_count": 45,
     "metadata": {},
     "output_type": "execute_result"
    }
   ],
   "source": [
    "x"
   ]
  },
  {
   "cell_type": "code",
   "execution_count": 52,
   "metadata": {},
   "outputs": [
    {
     "data": {
      "image/png": "[encoded data removed]",
      "text/plain": [
       "<Figure size 640x480 with 3 Axes>"
      ]
     },
     "metadata": {},
     "output_type": "display_data"
    }
   ],
   "source": [
    "import matplotlib.pyplot as plt\n",
    "\n",
    "limit=32; start=2; step=4\n",
    "x =[i for i in range(start, limit, step)]\n",
    "\n",
    "coherence_types = [\"c_v\", \"c_npmi\", \"u_mass\"]\n",
    "\n",
    "fig, axs = plt.subplots(2,2)\n",
    "axs[0,0].plot(np.array(x), np.array(all_coherence_values[\"c_v\"]), marker='o', label=\"c_v\")\n",
    "axs[0, 0].set_title(\"C_v\")\n",
    "# axs.xlim(2, 32)\n",
    "# axs.xlim(xmin=2,xmax=32)\n",
    "axs[0,1].plot(x, all_coherence_values[\"c_npmi\"], marker='o', label=\"c_npmi\")\n",
    "axs[0, 1].set_title(\"C_npmi\")\n",
    "axs[1,0].plot(x, all_coherence_values[\"u_mass\"], marker='o', label=\"u_mass\")\n",
    "axs[1, 0].set_title(\"u_mass\")\n",
    "fig.delaxes(axs[1][1])\n",
    "fig.tight_layout(pad=3.0)\n",
    "\n",
    "for i,ax in enumerate(axs.flat):\n",
    "   if i ==3:\n",
    "      break\n",
    "   ax.set(xlabel='Topic Count', ylabel=coherence_types[i])\n",
    "   ax.set_xticks(x)\n",
    "   ax.set_xticklabels(x)\n",
    "   \n",
    "\n",
    "# for coherence_type in coherence_types:\n",
    "#    ax.plot(x, all_coherence_values[coherence_type], marker='o', label=coherence_type)\n"
   ]
  },
  {
   "cell_type": "code",
   "execution_count": null,
   "metadata": {},
   "outputs": [
    {
     "data": {
      "text/plain": [
       "Text(0.5, 1.0, 'Perplexity Scores')"
      ]
     },
     "execution_count": 54,
     "metadata": {},
     "output_type": "execute_result"
    },
    {
     "data": {
      "image/png": "[encoded data removed]",
      "text/plain": [
       "<Figure size 640x480 with 1 Axes>"
      ]
     },
     "metadata": {},
     "output_type": "display_data"
    }
   ],
   "source": [
    "plt.plot(x,  all_perplexity_values, marker='o')\n",
    "plt.xlabel('Topic Count')\n",
    "plt.ylabel('Perplexity Score')\n",
    "plt.title('Perplexity Scores')\n"
   ]
  },
  {
   "cell_type": "code",
   "execution_count": null,
   "metadata": {},
   "outputs": [
    {
     "data": {
      "text/plain": [
       "Text(0.5, 1.0, 'Average Pairwise Jaccard Similarity')"
      ]
     },
     "execution_count": 55,
     "metadata": {},
     "output_type": "execute_result"
    },
    {
     "data": {
      "image/png": "[encoded data removed]",
      "text/plain": [
       "<Figure size 640x480 with 1 Axes>"
      ]
     },
     "metadata": {},
     "output_type": "display_data"
    }
   ],
   "source": [
    "plt.plot(x,  all_jaccard_values , marker='o')\n",
    "plt.xlabel('Topic Count')\n",
    "plt.ylabel('Jaccard Similarity')\n",
    "plt.title('Average Pairwise Jaccard Similarity')\n"
   ]
  },
  {
   "cell_type": "code",
   "execution_count": 53,
   "metadata": {},
   "outputs": [
    {
     "ename": "ModuleNotFoundError",
     "evalue": "No module named 'pyLDAvis'",
     "output_type": "error",
     "traceback": [
      "\u001b[1;31m---------------------------------------------------------------------------\u001b[0m",
      "\u001b[1;31mModuleNotFoundError\u001b[0m                       Traceback (most recent call last)",
      "\u001b[1;32m~\\AppData\\Local\\Temp\\ipykernel_2872\\4253687747.py\u001b[0m in \u001b[0;36m<module>\u001b[1;34m\u001b[0m\n\u001b[1;32m----> 1\u001b[1;33m \u001b[1;32mimport\u001b[0m \u001b[0mpyLDAvis\u001b[0m\u001b[1;33m\u001b[0m\u001b[1;33m\u001b[0m\u001b[0m\n\u001b[0m\u001b[0;32m      2\u001b[0m \u001b[1;33m\u001b[0m\u001b[0m\n\u001b[0;32m      3\u001b[0m \u001b[1;32mimport\u001b[0m \u001b[0mpyLDAvis\u001b[0m\u001b[1;33m.\u001b[0m\u001b[0mgensim_models\u001b[0m \u001b[1;32mas\u001b[0m \u001b[0mgensimvis\u001b[0m\u001b[1;33m\u001b[0m\u001b[1;33m\u001b[0m\u001b[0m\n\u001b[0;32m      4\u001b[0m \u001b[0mpyLDAvis\u001b[0m\u001b[1;33m.\u001b[0m\u001b[0menable_notebook\u001b[0m\u001b[1;33m(\u001b[0m\u001b[1;33m)\u001b[0m\u001b[1;33m\u001b[0m\u001b[1;33m\u001b[0m\u001b[0m\n\u001b[0;32m      5\u001b[0m \u001b[0mget_ipython\u001b[0m\u001b[1;33m(\u001b[0m\u001b[1;33m)\u001b[0m\u001b[1;33m.\u001b[0m\u001b[0mrun_line_magic\u001b[0m\u001b[1;33m(\u001b[0m\u001b[1;34m'matplotlib'\u001b[0m\u001b[1;33m,\u001b[0m \u001b[1;34m'inline'\u001b[0m\u001b[1;33m)\u001b[0m\u001b[1;33m\u001b[0m\u001b[1;33m\u001b[0m\u001b[0m\n",
      "\u001b[1;31mModuleNotFoundError\u001b[0m: No module named 'pyLDAvis'"
     ]
    }
   ],
   "source": [
    "import pyLDAvis\n",
    "\n",
    "import pyLDAvis.gensim_models as gensimvis\n",
    "pyLDAvis.enable_notebook()\n",
    "%matplotlib inline\n",
    "\n",
    "gensimvis.prepare(ldamodel ,doc_term_matrix , dict_)\n"
   ]
  },
  {
   "cell_type": "code",
   "execution_count": null,
   "metadata": {},
   "outputs": [],
   "source": [
    "print(doc_topics)"
   ]
  },
  {
   "cell_type": "code",
   "execution_count": 72,
   "metadata": {},
   "outputs": [
    {
     "data": {
      "text/plain": [
       "1"
      ]
     },
     "execution_count": 72,
     "metadata": {},
     "output_type": "execute_result"
    }
   ],
   "source": []
  },
  {
   "cell_type": "code",
   "execution_count": null,
   "metadata": {},
   "outputs": [],
   "source": [
    "# def conver_topic_score_list_to_topic_score_dict(topic_score_list):\n",
    "#     out = {}\n"
   ]
  },
  {
   "cell_type": "code",
   "execution_count": 9,
   "metadata": {},
   "outputs": [],
   "source": [
    "import numpy as np\n",
    "all_rows = []\n",
    "# Get raw scores\n",
    "for index,doc_in_words in enumerate(clean_corpus):\n",
    "    doc_in_words_as_string = ' '.join(doc_in_words)\n",
    "    row_vals = [doc_in_words_as_string]+list(np.zeros(6))\n",
    "    doc_topics = ldamodel.get_document_topics(doc_term_matrix[index])\n",
    "    \n",
    "    # print(doc_in_words_as_string)\n",
    "    # print(doc_topics)\n",
    "    for doc_topic in doc_topics:\n",
    "        row_vals[doc_topic[0]] = doc_topic[1]\n",
    "    all_rows.append(row_vals)\n"
   ]
  },
  {
   "cell_type": "code",
   "execution_count": 91,
   "metadata": {},
   "outputs": [
    {
     "data": {
      "text/html": [
       "<div>\n",
       "<style scoped>\n",
       "    .dataframe tbody tr th:only-of-type {\n",
       "        vertical-align: middle;\n",
       "    }\n",
       "\n",
       "    .dataframe tbody tr th {\n",
       "        vertical-align: top;\n",
       "    }\n",
       "\n",
       "    .dataframe thead th {\n",
       "        text-align: right;\n",
       "    }\n",
       "</style>\n",
       "<table border=\"1\" class=\"dataframe\">\n",
       "  <thead>\n",
       "    <tr style=\"text-align: right;\">\n",
       "      <th></th>\n",
       "      <th>Text</th>\n",
       "      <th>Topic 1</th>\n",
       "      <th>Topic 2</th>\n",
       "      <th>Topic 3</th>\n",
       "      <th>Topic 4</th>\n",
       "      <th>Topic 5</th>\n",
       "      <th>Topic 6</th>\n",
       "    </tr>\n",
       "  </thead>\n",
       "  <tbody>\n",
       "    <tr>\n",
       "      <th>0</th>\n",
       "      <td>nowadays every thing seem increasing governanc...</td>\n",
       "      <td>0.000000</td>\n",
       "      <td>0.000000</td>\n",
       "      <td>0.818087</td>\n",
       "      <td>0.144779</td>\n",
       "      <td>0.000000</td>\n",
       "      <td>0.0</td>\n",
       "    </tr>\n",
       "    <tr>\n",
       "      <th>1</th>\n",
       "      <td>0.055712</td>\n",
       "      <td>0.055671</td>\n",
       "      <td>0.055614</td>\n",
       "      <td>0.721656</td>\n",
       "      <td>0.055662</td>\n",
       "      <td>0.055686</td>\n",
       "      <td>0.0</td>\n",
       "    </tr>\n",
       "    <tr>\n",
       "      <th>2</th>\n",
       "      <td>wag po tayong magalala naniniwala po isusupris...</td>\n",
       "      <td>0.000000</td>\n",
       "      <td>0.000000</td>\n",
       "      <td>0.000000</td>\n",
       "      <td>0.962041</td>\n",
       "      <td>0.000000</td>\n",
       "      <td>0.0</td>\n",
       "    </tr>\n",
       "    <tr>\n",
       "      <th>3</th>\n",
       "      <td>0.015158</td>\n",
       "      <td>0.015399</td>\n",
       "      <td>0.015157</td>\n",
       "      <td>0.015284</td>\n",
       "      <td>0.923845</td>\n",
       "      <td>0.015157</td>\n",
       "      <td>0.0</td>\n",
       "    </tr>\n",
       "    <tr>\n",
       "      <th>4</th>\n",
       "      <td>0.041686</td>\n",
       "      <td>0.041720</td>\n",
       "      <td>0.041686</td>\n",
       "      <td>0.041686</td>\n",
       "      <td>0.791536</td>\n",
       "      <td>0.041686</td>\n",
       "      <td>0.0</td>\n",
       "    </tr>\n",
       "    <tr>\n",
       "      <th>...</th>\n",
       "      <td>...</td>\n",
       "      <td>...</td>\n",
       "      <td>...</td>\n",
       "      <td>...</td>\n",
       "      <td>...</td>\n",
       "      <td>...</td>\n",
       "      <td>...</td>\n",
       "    </tr>\n",
       "    <tr>\n",
       "      <th>5204</th>\n",
       "      <td>0.055606</td>\n",
       "      <td>0.056260</td>\n",
       "      <td>0.055606</td>\n",
       "      <td>0.055606</td>\n",
       "      <td>0.721315</td>\n",
       "      <td>0.055607</td>\n",
       "      <td>0.0</td>\n",
       "    </tr>\n",
       "    <tr>\n",
       "      <th>5205</th>\n",
       "      <td>0.027898</td>\n",
       "      <td>0.027835</td>\n",
       "      <td>0.027819</td>\n",
       "      <td>0.860761</td>\n",
       "      <td>0.027871</td>\n",
       "      <td>0.027816</td>\n",
       "      <td>0.0</td>\n",
       "    </tr>\n",
       "    <tr>\n",
       "      <th>5206</th>\n",
       "      <td>0.055599</td>\n",
       "      <td>0.055599</td>\n",
       "      <td>0.055599</td>\n",
       "      <td>0.055599</td>\n",
       "      <td>0.055599</td>\n",
       "      <td>0.722005</td>\n",
       "      <td>0.0</td>\n",
       "    </tr>\n",
       "    <tr>\n",
       "      <th>5207</th>\n",
       "      <td>0.033336</td>\n",
       "      <td>0.384533</td>\n",
       "      <td>0.033336</td>\n",
       "      <td>0.033477</td>\n",
       "      <td>0.481983</td>\n",
       "      <td>0.033336</td>\n",
       "      <td>0.0</td>\n",
       "    </tr>\n",
       "    <tr>\n",
       "      <th>5208</th>\n",
       "      <td>knowns wag kayo puro kuda wala naman kayo mait...</td>\n",
       "      <td>0.311760</td>\n",
       "      <td>0.000000</td>\n",
       "      <td>0.000000</td>\n",
       "      <td>0.667354</td>\n",
       "      <td>0.000000</td>\n",
       "      <td>0.0</td>\n",
       "    </tr>\n",
       "  </tbody>\n",
       "</table>\n",
       "<p>5209 rows × 7 columns</p>\n",
       "</div>"
      ],
      "text/plain": [
       "                                                   Text   Topic 1   Topic 2  \\\n",
       "0     nowadays every thing seem increasing governanc...  0.000000  0.000000   \n",
       "1                                              0.055712  0.055671  0.055614   \n",
       "2     wag po tayong magalala naniniwala po isusupris...  0.000000  0.000000   \n",
       "3                                              0.015158  0.015399  0.015157   \n",
       "4                                              0.041686  0.041720  0.041686   \n",
       "...                                                 ...       ...       ...   \n",
       "5204                                           0.055606  0.056260  0.055606   \n",
       "5205                                           0.027898  0.027835  0.027819   \n",
       "5206                                           0.055599  0.055599  0.055599   \n",
       "5207                                           0.033336  0.384533  0.033336   \n",
       "5208  knowns wag kayo puro kuda wala naman kayo mait...  0.311760  0.000000   \n",
       "\n",
       "       Topic 3   Topic 4   Topic 5  Topic 6  \n",
       "0     0.818087  0.144779  0.000000      0.0  \n",
       "1     0.721656  0.055662  0.055686      0.0  \n",
       "2     0.000000  0.962041  0.000000      0.0  \n",
       "3     0.015284  0.923845  0.015157      0.0  \n",
       "4     0.041686  0.791536  0.041686      0.0  \n",
       "...        ...       ...       ...      ...  \n",
       "5204  0.055606  0.721315  0.055607      0.0  \n",
       "5205  0.860761  0.027871  0.027816      0.0  \n",
       "5206  0.055599  0.055599  0.722005      0.0  \n",
       "5207  0.033477  0.481983  0.033336      0.0  \n",
       "5208  0.000000  0.667354  0.000000      0.0  \n",
       "\n",
       "[5209 rows x 7 columns]"
      ]
     },
     "execution_count": 91,
     "metadata": {},
     "output_type": "execute_result"
    }
   ],
   "source": [
    "import pandas as pd\n",
    "df = pd.DataFrame(all_rows, columns=[\"Platform\",\"Text\"]+[f\"Topic {i+1}\" for i in range(6)])\n",
    "df"
   ]
  },
  {
   "cell_type": "code",
   "execution_count": 57,
   "metadata": {},
   "outputs": [
    {
     "name": "stdout",
     "output_type": "stream",
     "text": [
      "[(3, 0.8180868), (4, 0.14477897)]\n",
      "0.014*\"inflation\" + 0.011*\"price\" + 0.008*\"rate\" + 0.008*\"wa\" + 0.006*\"philippine\" + 0.006*\"u\" + 0.006*\"company\" + 0.006*\"year\" + 0.006*\"time\" + 0.005*\"stock\" + 0.005*\"get\" + 0.005*\"also\" + 0.005*\"like\" + 0.005*\"ha\" + 0.004*\"billion\" + 0.004*\"go\" + 0.004*\"still\" + 0.004*\"money\" + 0.004*\"country\" + 0.004*\"take\" + 0.004*\"even\" + 0.004*\"market\" + 0.004*\"month\" + 0.004*\"since\" + 0.004*\"good\" + 0.004*\"one\" + 0.004*\"much\" + 0.003*\"food\" + 0.003*\"bank\" + 0.003*\"would\"\n",
      "\n",
      "0.024*\"yung\" + 0.016*\"lang\" + 0.011*\"kasi\" + 0.010*\"di\" + 0.010*\"naman\" + 0.008*\"mag\" + 0.007*\"yan\" + 0.007*\"mo\" + 0.007*\"si\" + 0.007*\"nga\" + 0.007*\"nyo\" + 0.007*\"k\" + 0.007*\"talaga\" + 0.006*\"ba\" + 0.006*\"nya\" + 0.006*\"pag\" + 0.006*\"eh\" + 0.006*\"nag\" + 0.005*\"peso\" + 0.005*\"wala\" + 0.005*\"sana\" + 0.004*\"nalang\" + 0.004*\"bigas\" + 0.004*\"bilihin\" + 0.004*\"tapos\" + 0.004*\"inflation\" + 0.004*\"gobyerno\" + 0.003*\"wag\" + 0.003*\"yun\" + 0.003*\"araw\"\n",
      "\n",
      "0.015*\"share\" + 0.011*\"mb\" + 0.007*\"pse\" + 0.006*\"ipo\" + 0.005*\"day\" + 0.005*\"ha\" + 0.005*\"trading\" + 0.005*\"market\" + 0.004*\"like\" + 0.004*\"million\" + 0.004*\"said\" + 0.004*\"today\" + 0.004*\"take\" + 0.004*\"quick\" + 0.004*\"dividend\" + 0.004*\"see\" + 0.004*\"wa\" + 0.003*\"reit\" + 0.003*\"barkada\" + 0.003*\"new\" + 0.003*\"shareholder\" + 0.003*\"trader\" + 0.003*\"subscribe\" + 0.003*\"sale\" + 0.003*\"newsletter\" + 0.003*\"point\" + 0.003*\"daily\" + 0.003*\"first\" + 0.003*\"make\" + 0.003*\"q2\"\n",
      "\n",
      "0.009*\"people\" + 0.009*\"wa\" + 0.008*\"philippine\" + 0.008*\"like\" + 0.007*\"country\" + 0.006*\"dont\" + 0.006*\"marcos\" + 0.006*\"would\" + 0.005*\"president\" + 0.005*\"one\" + 0.005*\"government\" + 0.005*\"economy\" + 0.004*\"filipino\" + 0.004*\"know\" + 0.004*\"even\" + 0.004*\"high\" + 0.004*\"think\" + 0.004*\"profit\" + 0.004*\"economic\" + 0.004*\"global\" + 0.004*\"ha\" + 0.004*\"bbm\" + 0.004*\"want\" + 0.004*\"good\" + 0.003*\"mr\" + 0.003*\"world\" + 0.003*\"power\" + 0.003*\"time\" + 0.003*\"make\" + 0.003*\"say\"\n",
      "\n",
      "0.030*\"lang\" + 0.018*\"po\" + 0.018*\"yan\" + 0.011*\"naman\" + 0.011*\"unity\" + 0.009*\"mo\" + 0.008*\"inflation\" + 0.008*\"kayo\" + 0.007*\"bansa\" + 0.007*\"natin\" + 0.006*\"wala\" + 0.006*\"di\" + 0.006*\"bilihin\" + 0.006*\"talaga\" + 0.005*\"ba\" + 0.005*\"kasi\" + 0.005*\"nyo\" + 0.005*\"ung\" + 0.005*\"mag\" + 0.005*\"si\" + 0.005*\"pag\" + 0.005*\"bbm\" + 0.005*\"pilipinas\" + 0.005*\"alam\" + 0.005*\"lng\" + 0.004*\"yung\" + 0.004*\"golden\" + 0.004*\"nga\" + 0.004*\"pinas\" + 0.004*\"rin\"\n",
      "\n",
      "0.007*\"growth\" + 0.006*\"holding\" + 0.006*\"future\" + 0.005*\"loan\" + 0.005*\"billion\" + 0.005*\"worth\" + 0.005*\"ac\" + 0.005*\"report\" + 0.005*\"political\" + 0.004*\"million\" + 0.004*\"possible\" + 0.004*\"making\" + 0.004*\"glo\" + 0.004*\"previous\" + 0.004*\"middle\" + 0.003*\"asia\" + 0.003*\"government\" + 0.003*\"percent\" + 0.003*\"law\" + 0.003*\"rating\" + 0.003*\"h1\" + 0.003*\"check\" + 0.002*\"answer\" + 0.002*\"ytd\" + 0.002*\"economics\" + 0.002*\"likely\" + 0.002*\"op\" + 0.002*\"voted\" + 0.002*\"income\" + 0.002*\"farmer\"\n",
      "\n"
     ]
    }
   ],
   "source": [
    "# for doc in doc_term_matrix:\n",
    "\n",
    "for i in range(len(ldamodel.get_topics())):\n",
    "    print(ldamodel.print_topic(i, topn=30))"
   ]
  }
 ],
 "metadata": {
  "kernelspec": {
   "display_name": "Python 3.9.13 ('base')",
   "language": "python",
   "name": "python3"
  },
  "language_info": {
   "codemirror_mode": {
    "name": "ipython",
    "version": 3
   },
   "file_extension": ".py",
   "mimetype": "text/x-python",
   "name": "python",
   "nbconvert_exporter": "python",
   "pygments_lexer": "ipython3",
   "version": "3.9.13"
  },
  "orig_nbformat": 4,
  "vscode": {
   "interpreter": {
    "hash": "ad2bdc8ecc057115af97d19610ffacc2b4e99fae6737bb82f5d7fb13d2f2c186"
   }
  }
 },
 "nbformat": 4,
 "nbformat_minor": 2
}
