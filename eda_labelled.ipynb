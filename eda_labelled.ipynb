{
 "cells": [
  {
   "cell_type": "code",
   "execution_count": 13,
   "metadata": {},
   "outputs": [],
   "source": [
    "import pandas as pd\n",
    "from collections import Counter\n",
    "import matplotlib.pyplot as plt\n",
    "import ast\n"
   ]
  },
  {
   "cell_type": "code",
   "execution_count": 14,
   "metadata": {},
   "outputs": [],
   "source": [
    "# Load csv file\n",
    "comments_data = pd.read_csv('data/labelled_dataset.csv')\n",
    "\n",
    "# Dataframe\n",
    "df_comments = pd.DataFrame(comments_data) "
   ]
  },
  {
   "cell_type": "code",
   "execution_count": 15,
   "metadata": {},
   "outputs": [],
   "source": [
    "# Dataframes for different platforms\n",
    "df_fb = df_comments[df_comments['Platform'] == 'Facebook']\n",
    "df_yt = df_comments[df_comments['Platform'] == 'Youtube']\n",
    "df_red = df_comments[df_comments['Platform'] == 'Reddit']\n",
    "df_tik = df_comments[df_comments['Platform'] == 'Tiktok']"
   ]
  },
  {
   "cell_type": "markdown",
   "metadata": {},
   "source": [
    "## Understanding the dataset"
   ]
  },
  {
   "cell_type": "code",
   "execution_count": 16,
   "metadata": {},
   "outputs": [
    {
     "data": {
      "text/html": [
       "<div>\n",
       "<style scoped>\n",
       "    .dataframe tbody tr th:only-of-type {\n",
       "        vertical-align: middle;\n",
       "    }\n",
       "\n",
       "    .dataframe tbody tr th {\n",
       "        vertical-align: top;\n",
       "    }\n",
       "\n",
       "    .dataframe thead th {\n",
       "        text-align: right;\n",
       "    }\n",
       "</style>\n",
       "<table border=\"1\" class=\"dataframe\">\n",
       "  <thead>\n",
       "    <tr style=\"text-align: right;\">\n",
       "      <th></th>\n",
       "      <th>Platform</th>\n",
       "      <th>Text</th>\n",
       "      <th>Topic 1</th>\n",
       "      <th>Topic 2</th>\n",
       "      <th>Topic 3</th>\n",
       "      <th>Topic 4</th>\n",
       "      <th>Topic 5</th>\n",
       "      <th>Topic 6</th>\n",
       "      <th>Best Topic</th>\n",
       "    </tr>\n",
       "  </thead>\n",
       "  <tbody>\n",
       "    <tr>\n",
       "      <th>0</th>\n",
       "      <td>Facebook</td>\n",
       "      <td>nowadays every thing seem increasing governanc...</td>\n",
       "      <td>0.953512</td>\n",
       "      <td>0.000000</td>\n",
       "      <td>0.000000</td>\n",
       "      <td>0.000000</td>\n",
       "      <td>0.000000</td>\n",
       "      <td>0.000000</td>\n",
       "      <td>1</td>\n",
       "    </tr>\n",
       "    <tr>\n",
       "      <th>1</th>\n",
       "      <td>Facebook</td>\n",
       "      <td>disagree high</td>\n",
       "      <td>0.055609</td>\n",
       "      <td>0.055623</td>\n",
       "      <td>0.055557</td>\n",
       "      <td>0.722094</td>\n",
       "      <td>0.055557</td>\n",
       "      <td>0.055561</td>\n",
       "      <td>4</td>\n",
       "    </tr>\n",
       "    <tr>\n",
       "      <th>2</th>\n",
       "      <td>Facebook</td>\n",
       "      <td>wag tayong magalala naniniwala isusuprise sir ...</td>\n",
       "      <td>0.000000</td>\n",
       "      <td>0.000000</td>\n",
       "      <td>0.000000</td>\n",
       "      <td>0.010050</td>\n",
       "      <td>0.000000</td>\n",
       "      <td>0.950684</td>\n",
       "      <td>6</td>\n",
       "    </tr>\n",
       "  </tbody>\n",
       "</table>\n",
       "</div>"
      ],
      "text/plain": [
       "   Platform                                               Text   Topic 1  \\\n",
       "0  Facebook  nowadays every thing seem increasing governanc...  0.953512   \n",
       "1  Facebook                                      disagree high  0.055609   \n",
       "2  Facebook  wag tayong magalala naniniwala isusuprise sir ...  0.000000   \n",
       "\n",
       "    Topic 2   Topic 3   Topic 4   Topic 5   Topic 6  Best Topic  \n",
       "0  0.000000  0.000000  0.000000  0.000000  0.000000           1  \n",
       "1  0.055623  0.055557  0.722094  0.055557  0.055561           4  \n",
       "2  0.000000  0.000000  0.010050  0.000000  0.950684           6  "
      ]
     },
     "execution_count": 16,
     "metadata": {},
     "output_type": "execute_result"
    }
   ],
   "source": [
    "# check data samples \n",
    "df_comments.head(3)"
   ]
  },
  {
   "cell_type": "code",
   "execution_count": 17,
   "metadata": {},
   "outputs": [
    {
     "name": "stdout",
     "output_type": "stream",
     "text": [
      "Duplicates:  97\n"
     ]
    }
   ],
   "source": [
    "# check duplicates\n",
    "print(\"Duplicates: \", df_comments.duplicated().sum())"
   ]
  },
  {
   "cell_type": "code",
   "execution_count": 18,
   "metadata": {},
   "outputs": [
    {
     "data": {
      "text/plain": [
       "Platform      0\n",
       "Text          0\n",
       "Topic 1       0\n",
       "Topic 2       0\n",
       "Topic 3       0\n",
       "Topic 4       0\n",
       "Topic 5       0\n",
       "Topic 6       0\n",
       "Best Topic    0\n",
       "dtype: int64"
      ]
     },
     "execution_count": 18,
     "metadata": {},
     "output_type": "execute_result"
    }
   ],
   "source": [
    "# check missing values\n",
    "df_comments.isnull().sum()"
   ]
  },
  {
   "cell_type": "code",
   "execution_count": 19,
   "metadata": {},
   "outputs": [
    {
     "name": "stdout",
     "output_type": "stream",
     "text": [
      "<class 'pandas.core.frame.DataFrame'>\n",
      "RangeIndex: 5156 entries, 0 to 5155\n",
      "Data columns (total 9 columns):\n",
      " #   Column      Non-Null Count  Dtype  \n",
      "---  ------      --------------  -----  \n",
      " 0   Platform    5156 non-null   object \n",
      " 1   Text        5156 non-null   object \n",
      " 2   Topic 1     5156 non-null   float64\n",
      " 3   Topic 2     5156 non-null   float64\n",
      " 4   Topic 3     5156 non-null   float64\n",
      " 5   Topic 4     5156 non-null   float64\n",
      " 6   Topic 5     5156 non-null   float64\n",
      " 7   Topic 6     5156 non-null   float64\n",
      " 8   Best Topic  5156 non-null   int64  \n",
      "dtypes: float64(6), int64(1), object(2)\n",
      "memory usage: 362.7+ KB\n"
     ]
    }
   ],
   "source": [
    "# check the data type of each column\n",
    "df_comments.info()"
   ]
  },
  {
   "cell_type": "code",
   "execution_count": 20,
   "metadata": {},
   "outputs": [
    {
     "data": {
      "text/html": [
       "<div>\n",
       "<style scoped>\n",
       "    .dataframe tbody tr th:only-of-type {\n",
       "        vertical-align: middle;\n",
       "    }\n",
       "\n",
       "    .dataframe tbody tr th {\n",
       "        vertical-align: top;\n",
       "    }\n",
       "\n",
       "    .dataframe thead th {\n",
       "        text-align: right;\n",
       "    }\n",
       "</style>\n",
       "<table border=\"1\" class=\"dataframe\">\n",
       "  <thead>\n",
       "    <tr style=\"text-align: right;\">\n",
       "      <th></th>\n",
       "      <th>Topic 1</th>\n",
       "      <th>Topic 2</th>\n",
       "      <th>Topic 3</th>\n",
       "      <th>Topic 4</th>\n",
       "      <th>Topic 5</th>\n",
       "      <th>Topic 6</th>\n",
       "      <th>Best Topic</th>\n",
       "    </tr>\n",
       "  </thead>\n",
       "  <tbody>\n",
       "    <tr>\n",
       "      <th>count</th>\n",
       "      <td>5156.000000</td>\n",
       "      <td>5156.000000</td>\n",
       "      <td>5156.000000</td>\n",
       "      <td>5156.000000</td>\n",
       "      <td>5156.000000</td>\n",
       "      <td>5156.000000</td>\n",
       "      <td>5156.000000</td>\n",
       "    </tr>\n",
       "    <tr>\n",
       "      <th>mean</th>\n",
       "      <td>0.253723</td>\n",
       "      <td>0.128385</td>\n",
       "      <td>0.224907</td>\n",
       "      <td>0.153131</td>\n",
       "      <td>0.083543</td>\n",
       "      <td>0.152608</td>\n",
       "      <td>3.074670</td>\n",
       "    </tr>\n",
       "    <tr>\n",
       "      <th>std</th>\n",
       "      <td>0.291060</td>\n",
       "      <td>0.199068</td>\n",
       "      <td>0.275752</td>\n",
       "      <td>0.225898</td>\n",
       "      <td>0.151803</td>\n",
       "      <td>0.233541</td>\n",
       "      <td>1.758904</td>\n",
       "    </tr>\n",
       "    <tr>\n",
       "      <th>min</th>\n",
       "      <td>0.000000</td>\n",
       "      <td>0.000000</td>\n",
       "      <td>0.000000</td>\n",
       "      <td>0.000000</td>\n",
       "      <td>0.000000</td>\n",
       "      <td>0.000000</td>\n",
       "      <td>1.000000</td>\n",
       "    </tr>\n",
       "    <tr>\n",
       "      <th>25%</th>\n",
       "      <td>0.027814</td>\n",
       "      <td>0.018573</td>\n",
       "      <td>0.023843</td>\n",
       "      <td>0.016793</td>\n",
       "      <td>0.015169</td>\n",
       "      <td>0.016706</td>\n",
       "      <td>1.000000</td>\n",
       "    </tr>\n",
       "    <tr>\n",
       "      <th>50%</th>\n",
       "      <td>0.083335</td>\n",
       "      <td>0.041674</td>\n",
       "      <td>0.058772</td>\n",
       "      <td>0.041723</td>\n",
       "      <td>0.027883</td>\n",
       "      <td>0.041676</td>\n",
       "      <td>3.000000</td>\n",
       "    </tr>\n",
       "    <tr>\n",
       "      <th>75%</th>\n",
       "      <td>0.475188</td>\n",
       "      <td>0.127986</td>\n",
       "      <td>0.382984</td>\n",
       "      <td>0.187262</td>\n",
       "      <td>0.055839</td>\n",
       "      <td>0.173125</td>\n",
       "      <td>4.000000</td>\n",
       "    </tr>\n",
       "    <tr>\n",
       "      <th>max</th>\n",
       "      <td>0.997189</td>\n",
       "      <td>0.984736</td>\n",
       "      <td>0.983513</td>\n",
       "      <td>0.950766</td>\n",
       "      <td>0.965216</td>\n",
       "      <td>0.968768</td>\n",
       "      <td>6.000000</td>\n",
       "    </tr>\n",
       "  </tbody>\n",
       "</table>\n",
       "</div>"
      ],
      "text/plain": [
       "           Topic 1      Topic 2      Topic 3      Topic 4      Topic 5  \\\n",
       "count  5156.000000  5156.000000  5156.000000  5156.000000  5156.000000   \n",
       "mean      0.253723     0.128385     0.224907     0.153131     0.083543   \n",
       "std       0.291060     0.199068     0.275752     0.225898     0.151803   \n",
       "min       0.000000     0.000000     0.000000     0.000000     0.000000   \n",
       "25%       0.027814     0.018573     0.023843     0.016793     0.015169   \n",
       "50%       0.083335     0.041674     0.058772     0.041723     0.027883   \n",
       "75%       0.475188     0.127986     0.382984     0.187262     0.055839   \n",
       "max       0.997189     0.984736     0.983513     0.950766     0.965216   \n",
       "\n",
       "           Topic 6   Best Topic  \n",
       "count  5156.000000  5156.000000  \n",
       "mean      0.152608     3.074670  \n",
       "std       0.233541     1.758904  \n",
       "min       0.000000     1.000000  \n",
       "25%       0.016706     1.000000  \n",
       "50%       0.041676     3.000000  \n",
       "75%       0.173125     4.000000  \n",
       "max       0.968768     6.000000  "
      ]
     },
     "execution_count": 20,
     "metadata": {},
     "output_type": "execute_result"
    }
   ],
   "source": [
    "# describe the dataset\n",
    "df_comments.describe()"
   ]
  },
  {
   "cell_type": "code",
   "execution_count": 21,
   "metadata": {},
   "outputs": [
    {
     "data": {
      "text/plain": [
       "array(['Facebook', 'Reddit', 'Tiktok', 'Youtube'], dtype=object)"
      ]
     },
     "execution_count": 21,
     "metadata": {},
     "output_type": "execute_result"
    }
   ],
   "source": [
    "# check unique platforms\n",
    "df_comments['Platform'].unique()"
   ]
  },
  {
   "cell_type": "markdown",
   "metadata": {},
   "source": [
    "## Visualization"
   ]
  }
 ],
 "metadata": {
  "kernelspec": {
   "display_name": "Python 3.9.7 ('base')",
   "language": "python",
   "name": "python3"
  },
  "language_info": {
   "codemirror_mode": {
    "name": "ipython",
    "version": 3
   },
   "file_extension": ".py",
   "mimetype": "text/x-python",
   "name": "python",
   "nbconvert_exporter": "python",
   "pygments_lexer": "ipython3",
   "version": "3.9.7"
  },
  "orig_nbformat": 4,
  "vscode": {
   "interpreter": {
    "hash": "3d7e9679791a0cc8fec0355bccbe56b27315ba347fb40fe2eed38daf52cf00c1"
   }
  }
 },
 "nbformat": 4,
 "nbformat_minor": 2
}
