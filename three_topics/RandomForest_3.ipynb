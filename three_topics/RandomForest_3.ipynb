{
 "cells": [
  {
   "cell_type": "code",
   "execution_count": 1,
   "metadata": {},
   "outputs": [],
   "source": [
    "from sklearn.feature_extraction.text import TfidfVectorizer\n",
    "from sklearn import svm\n",
    "from sklearn.ensemble import RandomForestClassifier\n",
    "from sklearn.multiclass import OneVsRestClassifier\n",
    "from sklearn.pipeline import make_pipeline\n",
    "import pandas as pd\n",
    "from sklearn.model_selection import train_test_split\n"
   ]
  },
  {
   "cell_type": "code",
   "execution_count": 2,
   "metadata": {},
   "outputs": [],
   "source": [
    "from sklearn.metrics import accuracy_score\n",
    "from sklearn.metrics import classification_report"
   ]
  },
  {
   "cell_type": "code",
   "execution_count": 3,
   "metadata": {},
   "outputs": [],
   "source": [
    "dataframe = pd.read_csv('../data/labelled_dataset.csv')\n",
    "dataframe = dataframe.dropna(how='all')\n",
    "# can be features other than the text column\n",
    "features = dataframe[\"Text\"]\n",
    "labels = dataframe[\"Best Topic\"]\n",
    "targets = [\"1\", \"2\", \"3\"]"
   ]
  },
  {
   "cell_type": "code",
   "execution_count": 4,
   "metadata": {},
   "outputs": [],
   "source": [
    "X_train, X_test, y_train, y_test = train_test_split(features, labels, test_size=0.2, random_state=42)"
   ]
  },
  {
   "cell_type": "markdown",
   "metadata": {},
   "source": [
    "<h2> ngram = (1,1)"
   ]
  },
  {
   "cell_type": "code",
   "execution_count": 5,
   "metadata": {},
   "outputs": [
    {
     "data": {
      "text/plain": [
       "Pipeline(steps=[('tfidfvectorizer', TfidfVectorizer()),\n",
       "                ('onevsrestclassifier',\n",
       "                 OneVsRestClassifier(estimator=RandomForestClassifier(min_samples_split=15)))])"
      ]
     },
     "execution_count": 5,
     "metadata": {},
     "output_type": "execute_result"
    }
   ],
   "source": [
    "# Instantiate Classifier\n",
    "ovr_classifier = make_pipeline(\n",
    "    TfidfVectorizer(ngram_range=(1, 1)),\n",
    "    OneVsRestClassifier(RandomForestClassifier(min_samples_split=15, criterion='gini'))\n",
    ")\n",
    "randomforest_mode = ovr_classifier.fit(X=X_train, y=y_train)\n",
    "randomforest_mode"
   ]
  },
  {
   "cell_type": "code",
   "execution_count": 6,
   "metadata": {},
   "outputs": [
    {
     "name": "stdout",
     "output_type": "stream",
     "text": [
      "Random Forest Accuracy Score ->  0.8127659574468085\n",
      "              precision    recall  f1-score   support\n",
      "\n",
      "           1       0.76      0.78      0.77       316\n",
      "           2       0.84      0.94      0.89       521\n",
      "           3       0.90      0.26      0.41       103\n",
      "\n",
      "    accuracy                           0.81       940\n",
      "   macro avg       0.83      0.66      0.69       940\n",
      "weighted avg       0.82      0.81      0.79       940\n",
      "\n"
     ]
    }
   ],
   "source": [
    "predictions = randomforest_mode.predict(X_test)\n",
    "t1_score = accuracy_score(predictions, y_test)\n",
    "print(\"Random Forest Accuracy Score -> \", t1_score)\n",
    "print(classification_report(y_test, predictions, target_names=targets))"
   ]
  },
  {
   "cell_type": "markdown",
   "metadata": {},
   "source": [
    "<h2> ngram = (1,2)"
   ]
  },
  {
   "cell_type": "code",
   "execution_count": 7,
   "metadata": {},
   "outputs": [
    {
     "data": {
      "text/plain": [
       "Pipeline(steps=[('tfidfvectorizer', TfidfVectorizer(ngram_range=(1, 2))),\n",
       "                ('onevsrestclassifier',\n",
       "                 OneVsRestClassifier(estimator=RandomForestClassifier(min_samples_split=15)))])"
      ]
     },
     "execution_count": 7,
     "metadata": {},
     "output_type": "execute_result"
    }
   ],
   "source": [
    "# Instantiate Classifier\n",
    "ovr_classifier = make_pipeline(\n",
    "    TfidfVectorizer(ngram_range=(1, 2)),\n",
    "    OneVsRestClassifier(RandomForestClassifier(min_samples_split=15, criterion='gini'))\n",
    ")\n",
    "randomforest_mode = ovr_classifier.fit(X=X_train, y=y_train)\n",
    "randomforest_mode"
   ]
  },
  {
   "cell_type": "code",
   "execution_count": 8,
   "metadata": {},
   "outputs": [
    {
     "name": "stdout",
     "output_type": "stream",
     "text": [
      "Random Forest Accuracy Score ->  0.8\n",
      "              precision    recall  f1-score   support\n",
      "\n",
      "           1       0.76      0.75      0.75       316\n",
      "           2       0.82      0.94      0.88       521\n",
      "           3       0.86      0.24      0.38       103\n",
      "\n",
      "    accuracy                           0.80       940\n",
      "   macro avg       0.81      0.64      0.67       940\n",
      "weighted avg       0.80      0.80      0.78       940\n",
      "\n"
     ]
    }
   ],
   "source": [
    "predictions = randomforest_mode.predict(X_test)\n",
    "t1_score = accuracy_score(predictions, y_test)\n",
    "print(\"Random Forest Accuracy Score -> \", t1_score)\n",
    "print(classification_report(y_test, predictions, target_names=targets))"
   ]
  },
  {
   "cell_type": "markdown",
   "metadata": {},
   "source": [
    "<h2> ngram = (1,3)"
   ]
  },
  {
   "cell_type": "code",
   "execution_count": 9,
   "metadata": {},
   "outputs": [
    {
     "data": {
      "text/plain": [
       "Pipeline(steps=[('tfidfvectorizer', TfidfVectorizer(ngram_range=(1, 3))),\n",
       "                ('onevsrestclassifier',\n",
       "                 OneVsRestClassifier(estimator=RandomForestClassifier(min_samples_split=15)))])"
      ]
     },
     "execution_count": 9,
     "metadata": {},
     "output_type": "execute_result"
    }
   ],
   "source": [
    "# Instantiate Classifier\n",
    "ovr_classifier = make_pipeline(\n",
    "    # CountVectorizer(),\n",
    "    TfidfVectorizer(ngram_range=(1, 3)),\n",
    "    OneVsRestClassifier(RandomForestClassifier(min_samples_split=15, criterion='gini'))\n",
    ")\n",
    "randomforest_mode = ovr_classifier.fit(X=X_train, y=y_train)\n",
    "randomforest_mode"
   ]
  },
  {
   "cell_type": "code",
   "execution_count": 10,
   "metadata": {},
   "outputs": [
    {
     "name": "stdout",
     "output_type": "stream",
     "text": [
      "Random Forest Accuracy Score ->  0.7946808510638298\n",
      "              precision    recall  f1-score   support\n",
      "\n",
      "           1       0.76      0.73      0.75       316\n",
      "           2       0.81      0.95      0.87       521\n",
      "           3       0.88      0.22      0.36       103\n",
      "\n",
      "    accuracy                           0.79       940\n",
      "   macro avg       0.82      0.63      0.66       940\n",
      "weighted avg       0.80      0.79      0.77       940\n",
      "\n"
     ]
    }
   ],
   "source": [
    "predictions = randomforest_mode.predict(X_test)\n",
    "t1_score = accuracy_score(predictions, y_test)\n",
    "print(\"Random Forest Accuracy Score -> \", t1_score)\n",
    "print(classification_report(y_test, predictions, target_names=targets))"
   ]
  }
 ],
 "metadata": {
  "kernelspec": {
   "display_name": "Python 3.9.7",
   "language": "python",
   "name": "python3"
  },
  "language_info": {
   "codemirror_mode": {
    "name": "ipython",
    "version": 3
   },
   "file_extension": ".py",
   "mimetype": "text/x-python",
   "name": "python",
   "nbconvert_exporter": "python",
   "pygments_lexer": "ipython3",
   "version": "3.9.7"
  },
  "orig_nbformat": 4,
  "vscode": {
   "interpreter": {
    "hash": "ad2bdc8ecc057115af97d19610ffacc2b4e99fae6737bb82f5d7fb13d2f2c186"
   }
  }
 },
 "nbformat": 4,
 "nbformat_minor": 2
}
