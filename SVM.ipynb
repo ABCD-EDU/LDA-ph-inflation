{
 "cells": [
  {
   "cell_type": "code",
   "execution_count": 7,
   "metadata": {},
   "outputs": [],
   "source": [
    "from sklearn.feature_extraction.text import TfidfVectorizer\n",
    "from sklearn import svm\n",
    "from sklearn.multiclass import OneVsRestClassifier\n",
    "from sklearn.pipeline import make_pipeline\n",
    "import pandas as pd\n",
    "from sklearn.model_selection import train_test_split\n"
   ]
  },
  {
   "cell_type": "code",
   "execution_count": 8,
   "metadata": {},
   "outputs": [],
   "source": [
    "from sklearn.metrics import accuracy_score\n",
    "from sklearn.metrics import confusion_matrix\n",
    "from sklearn.metrics import classification_report\n",
    "from sklearn.metrics import roc_auc_score"
   ]
  },
  {
   "cell_type": "code",
   "execution_count": 9,
   "metadata": {},
   "outputs": [],
   "source": [
    "dataframe = pd.read_csv('./data/labelled_dataset.csv')\n",
    "dataframe = dataframe.dropna(how='all')\n",
    "# can be features other than the text column\n",
    "features = dataframe[\"Text\"]\n",
    "labels = dataframe[\"Best Topic\"]\n",
    "targets = [\"1\", \"2\", \"3\", \"4\", \"5\", \"6\"]"
   ]
  },
  {
   "cell_type": "code",
   "execution_count": 10,
   "metadata": {},
   "outputs": [],
   "source": [
    "X_train, X_test, y_train, y_test = train_test_split(features, labels, test_size=0.2, random_state=42)"
   ]
  },
  {
   "cell_type": "markdown",
   "metadata": {},
   "source": [
    "<h2> ngram = (1,1)"
   ]
  },
  {
   "cell_type": "code",
   "execution_count": 11,
   "metadata": {},
   "outputs": [
    {
     "data": {
      "text/plain": [
       "Pipeline(steps=[('tfidfvectorizer', TfidfVectorizer()),\n",
       "                ('onevsrestclassifier',\n",
       "                 OneVsRestClassifier(estimator=SVC(kernel='linear',\n",
       "                                                   probability=True)))])"
      ]
     },
     "execution_count": 11,
     "metadata": {},
     "output_type": "execute_result"
    }
   ],
   "source": [
    "# Instantiate Classifier\n",
    "ovr_classifier = make_pipeline(\n",
    "    TfidfVectorizer(ngram_range=(1, 1)),\n",
    "    OneVsRestClassifier(svm.SVC(kernel='linear', probability=True))\n",
    ")\n",
    "t1_classifier_ngram = ovr_classifier.fit(X=X_train, y=y_train)\n",
    "t1_classifier_ngram"
   ]
  },
  {
   "cell_type": "code",
   "execution_count": 12,
   "metadata": {},
   "outputs": [
    {
     "name": "stdout",
     "output_type": "stream",
     "text": [
      "SVM Accuracy Score ->  0.6606382978723404\n",
      "              precision    recall  f1-score   support\n",
      "\n",
      "           1       0.63      0.74      0.68       163\n",
      "           2       0.71      0.59      0.65       138\n",
      "           3       0.67      0.69      0.68       179\n",
      "           4       0.68      0.80      0.74       214\n",
      "           5       0.76      0.32      0.45        82\n",
      "           6       0.60      0.59      0.60       164\n",
      "\n",
      "    accuracy                           0.66       940\n",
      "   macro avg       0.68      0.62      0.63       940\n",
      "weighted avg       0.67      0.66      0.65       940\n",
      "\n"
     ]
    }
   ],
   "source": [
    "predictions_t1 = t1_classifier_ngram.predict(X_test)\n",
    "t1_score = accuracy_score(predictions_t1, y_test)\n",
    "print(\"SVM Accuracy Score -> \", t1_score)\n",
    "print(classification_report(y_test, predictions_t1, target_names=targets))"
   ]
  },
  {
   "cell_type": "markdown",
   "metadata": {},
   "source": [
    "<h2> ngram = (1,2)"
   ]
  },
  {
   "cell_type": "code",
   "execution_count": 13,
   "metadata": {},
   "outputs": [
    {
     "data": {
      "text/plain": [
       "Pipeline(steps=[('tfidfvectorizer', TfidfVectorizer(ngram_range=(1, 2))),\n",
       "                ('onevsrestclassifier',\n",
       "                 OneVsRestClassifier(estimator=SVC(kernel='linear',\n",
       "                                                   probability=True)))])"
      ]
     },
     "execution_count": 13,
     "metadata": {},
     "output_type": "execute_result"
    }
   ],
   "source": [
    "# Instantiate Classifier\n",
    "ovr_classifier = make_pipeline(\n",
    "    TfidfVectorizer(ngram_range=(1, 2)),\n",
    "    OneVsRestClassifier(svm.SVC(kernel='linear', probability=True))\n",
    ")\n",
    "t1_classifier_ngram = ovr_classifier.fit(X=X_train, y=y_train)\n",
    "t1_classifier_ngram"
   ]
  },
  {
   "cell_type": "code",
   "execution_count": 14,
   "metadata": {},
   "outputs": [
    {
     "name": "stdout",
     "output_type": "stream",
     "text": [
      "SVM Accuracy Score ->  0.6574468085106383\n",
      "              precision    recall  f1-score   support\n",
      "\n",
      "           1       0.64      0.74      0.69       163\n",
      "           2       0.71      0.57      0.63       138\n",
      "           3       0.65      0.70      0.67       179\n",
      "           4       0.66      0.82      0.73       214\n",
      "           5       0.80      0.34      0.48        82\n",
      "           6       0.61      0.55      0.58       164\n",
      "\n",
      "    accuracy                           0.66       940\n",
      "   macro avg       0.68      0.62      0.63       940\n",
      "weighted avg       0.67      0.66      0.65       940\n",
      "\n"
     ]
    }
   ],
   "source": [
    "predictions_t1 = t1_classifier_ngram.predict(X_test)\n",
    "t1_score = accuracy_score(predictions_t1, y_test)\n",
    "print(\"SVM Accuracy Score -> \", t1_score)\n",
    "print(classification_report(y_test, predictions_t1, target_names=targets))"
   ]
  },
  {
   "cell_type": "markdown",
   "metadata": {},
   "source": [
    "<h2> ngram = (1,3)"
   ]
  },
  {
   "cell_type": "code",
   "execution_count": 15,
   "metadata": {},
   "outputs": [
    {
     "data": {
      "text/plain": [
       "Pipeline(steps=[('tfidfvectorizer', TfidfVectorizer(ngram_range=(1, 3))),\n",
       "                ('onevsrestclassifier',\n",
       "                 OneVsRestClassifier(estimator=SVC(kernel='linear',\n",
       "                                                   probability=True)))])"
      ]
     },
     "execution_count": 15,
     "metadata": {},
     "output_type": "execute_result"
    }
   ],
   "source": [
    "# Instantiate Classifier\n",
    "ovr_classifier = make_pipeline(\n",
    "    TfidfVectorizer(ngram_range=(1, 3)),\n",
    "    OneVsRestClassifier(svm.SVC(kernel='linear', probability=True))\n",
    ")\n",
    "t1_classifier_ngram = ovr_classifier.fit(X=X_train, y=y_train)\n",
    "t1_classifier_ngram"
   ]
  },
  {
   "cell_type": "code",
   "execution_count": 16,
   "metadata": {},
   "outputs": [
    {
     "name": "stdout",
     "output_type": "stream",
     "text": [
      "SVM Accuracy Score ->  0.65\n",
      "              precision    recall  f1-score   support\n",
      "\n",
      "           1       0.62      0.74      0.68       163\n",
      "           2       0.70      0.57      0.63       138\n",
      "           3       0.62      0.70      0.66       179\n",
      "           4       0.66      0.81      0.73       214\n",
      "           5       0.79      0.32      0.45        82\n",
      "           6       0.62      0.54      0.58       164\n",
      "\n",
      "    accuracy                           0.65       940\n",
      "   macro avg       0.67      0.61      0.62       940\n",
      "weighted avg       0.66      0.65      0.64       940\n",
      "\n"
     ]
    }
   ],
   "source": [
    "predictions_t1 = t1_classifier_ngram.predict(X_test)\n",
    "t1_score = accuracy_score(predictions_t1, y_test)\n",
    "print(\"SVM Accuracy Score -> \", t1_score)\n",
    "print(classification_report(y_test, predictions_t1, target_names=targets))"
   ]
  }
 ],
 "metadata": {
  "kernelspec": {
   "display_name": "Python 3.9.7 ('base')",
   "language": "python",
   "name": "python3"
  },
  "language_info": {
   "codemirror_mode": {
    "name": "ipython",
    "version": 3
   },
   "file_extension": ".py",
   "mimetype": "text/x-python",
   "name": "python",
   "nbconvert_exporter": "python",
   "pygments_lexer": "ipython3",
   "version": "3.9.7"
  },
  "orig_nbformat": 4,
  "vscode": {
   "interpreter": {
    "hash": "3d7e9679791a0cc8fec0355bccbe56b27315ba347fb40fe2eed38daf52cf00c1"
   }
  }
 },
 "nbformat": 4,
 "nbformat_minor": 2
}
